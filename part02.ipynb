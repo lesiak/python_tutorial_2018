{
 "cells": [
  {
   "cell_type": "markdown",
   "metadata": {
    "slideshow": {
     "slide_type": "slide"
    }
   },
   "source": [
    "# Efektywne programowanie w języku Python \n",
    "\n",
    "## wykład 2"
   ]
  },
  {
   "cell_type": "markdown",
   "metadata": {
    "slideshow": {
     "slide_type": "slide"
    }
   },
   "source": [
    "## Do you know that?"
   ]
  },
  {
   "cell_type": "markdown",
   "metadata": {
    "slideshow": {
     "slide_type": "subslide"
    }
   },
   "source": [
    "### Explicit line joining"
   ]
  },
  {
   "cell_type": "code",
   "execution_count": null,
   "metadata": {
    "slideshow": {
     "slide_type": "fragment"
    }
   },
   "outputs": [],
   "source": [
    "if 1900 < year < 2100 and 1 <= month <= 12 \\\n",
    "   and 1 <= day <= 31 and 0 <= hour < 24 \\\n",
    "   and 0 <= minute < 60 and 0 <= second < 60:   # Looks like a valid date\n",
    "        return 1"
   ]
  },
  {
   "cell_type": "markdown",
   "metadata": {
    "slideshow": {
     "slide_type": "fragment"
    }
   },
   "source": [
    "Two or more physical lines may be joined into logical lines using backslash characters (\\), as follows: when a physical line ends in a backslash that is not part of a string literal or comment, it is joined with the following forming a single logical line, deleting the backslash and the following end-of-line character."
   ]
  },
  {
   "cell_type": "markdown",
   "metadata": {
    "slideshow": {
     "slide_type": "subslide"
    }
   },
   "source": [
    "###  String literal concatenation"
   ]
  },
  {
   "cell_type": "code",
   "execution_count": null,
   "metadata": {
    "slideshow": {
     "slide_type": "fragment"
    }
   },
   "outputs": [],
   "source": [
    "re.compile(\"[A-Za-z_]\"       # letter or underscore\n",
    "           \"[A-Za-z0-9_]*\"   # letter, digit or underscore\n",
    "          )"
   ]
  },
  {
   "cell_type": "markdown",
   "metadata": {
    "slideshow": {
     "slide_type": "fragment"
    }
   },
   "source": [
    "Multiple adjacent string or bytes literals (delimited by whitespace), possibly using different quoting conventions, are allowed, and their meaning is the same as their concatenation. Thus, \"hello\" 'world' is equivalent to \"helloworld\"."
   ]
  },
  {
   "cell_type": "markdown",
   "metadata": {
    "slideshow": {
     "slide_type": "fragment"
    }
   },
   "source": [
    "Note that this feature is defined at the syntactical level, but implemented at compile time. The ‘+’ operator must be used to concatenate string expressions at run time."
   ]
  },
  {
   "cell_type": "markdown",
   "metadata": {
    "slideshow": {
     "slide_type": "subslide"
    }
   },
   "source": [
    "### We can use semicolons!!!"
   ]
  },
  {
   "cell_type": "code",
   "execution_count": 9,
   "metadata": {
    "slideshow": {
     "slide_type": "fragment"
    }
   },
   "outputs": [],
   "source": [
    "x, y, z = 0, 1, 2"
   ]
  },
  {
   "cell_type": "code",
   "execution_count": 10,
   "metadata": {
    "slideshow": {
     "slide_type": "fragment"
    }
   },
   "outputs": [],
   "source": [
    "if x < y < z: print(x); print(y); print(z)"
   ]
  },
  {
   "cell_type": "markdown",
   "metadata": {
    "slideshow": {
     "slide_type": "slide"
    }
   },
   "source": [
    "## What is truth?"
   ]
  },
  {
   "cell_type": "code",
   "execution_count": null,
   "metadata": {
    "collapsed": true,
    "slideshow": {
     "slide_type": "fragment"
    }
   },
   "outputs": [],
   "source": [
    "# 'Falsy'\n",
    "bool(None)\n",
    "bool(False)\n",
    "bool(0)\n",
    "bool(0.0)\n",
    "bool('')"
   ]
  },
  {
   "cell_type": "code",
   "execution_count": null,
   "metadata": {
    "collapsed": true,
    "slideshow": {
     "slide_type": "subslide"
    }
   },
   "outputs": [],
   "source": [
    "# Empty data structures are 'falsy'\n",
    "bool([]) # => False"
   ]
  },
  {
   "cell_type": "code",
   "execution_count": null,
   "metadata": {
    "collapsed": true,
    "slideshow": {
     "slide_type": "fragment"
    }
   },
   "outputs": [],
   "source": [
    "# How should we check for an empty list?\n",
    "data = []\n",
    "if data:\n",
    "    process(data):\n",
    "else:\n",
    "    print(\"There's no data!\")"
   ]
  },
  {
   "cell_type": "markdown",
   "metadata": {
    "slideshow": {
     "slide_type": "fragment"
    }
   },
   "source": [
    "> goto opt02 :) part 1"
   ]
  },
  {
   "cell_type": "code",
   "execution_count": null,
   "metadata": {
    "collapsed": true,
    "slideshow": {
     "slide_type": "subslide"
    }
   },
   "outputs": [],
   "source": [
    "#You should not use \n",
    "if expr == True:\n",
    "    pass\n",
    "\n",
    "# or\n",
    "if len(data) == 0:\n",
    "    pass"
   ]
  },
  {
   "cell_type": "markdown",
   "metadata": {
    "slideshow": {
     "slide_type": "slide"
    }
   },
   "source": [
    "## Range"
   ]
  },
  {
   "cell_type": "code",
   "execution_count": null,
   "metadata": {
    "collapsed": true,
    "slideshow": {
     "slide_type": "fragment"
    }
   },
   "outputs": [],
   "source": [
    "range(3)\n",
    "# generates 0, 1, 2\n",
    "\n",
    "range(5, 10)\n",
    "# generates 5, 6, 7, 8, 9\n",
    "\n",
    "range(2, 12, 3)\n",
    "# generates 2, 5, 8, 11\n",
    "\n",
    "range(-7, -30, -5)\n",
    "# generates -7, -12, -17, -22, -27"
   ]
  },
  {
   "cell_type": "code",
   "execution_count": null,
   "metadata": {
    "slideshow": {
     "slide_type": "subslide"
    }
   },
   "outputs": [],
   "source": [
    "v = range(10)\n",
    "print(type(v))\n",
    "print(v)"
   ]
  },
  {
   "cell_type": "markdown",
   "metadata": {
    "slideshow": {
     "slide_type": "fragment"
    }
   },
   "source": [
    "co tutaj dostaniemy?"
   ]
  },
  {
   "cell_type": "code",
   "execution_count": 5,
   "metadata": {
    "slideshow": {
     "slide_type": "fragment"
    }
   },
   "outputs": [
    {
     "name": "stdout",
     "output_type": "stream",
     "text": [
      "Help on class range in module builtins:\n",
      "\n",
      "class range(object)\n",
      " |  range(stop) -> range object\n",
      " |  range(start, stop[, step]) -> range object\n",
      " |  \n",
      " |  Return an object that produces a sequence of integers from start (inclusive)\n",
      " |  to stop (exclusive) by step.  range(i, j) produces i, i+1, i+2, ..., j-1.\n",
      " |  start defaults to 0, and stop is omitted!  range(4) produces 0, 1, 2, 3.\n",
      " |  These are exactly the valid indices for a list of 4 elements.\n",
      " |  When step is given, it specifies the increment (or decrement).\n",
      " |  \n",
      " |  Methods defined here:\n",
      " |  \n",
      " |  __bool__(self, /)\n",
      " |      self != 0\n",
      " |  \n",
      " |  __contains__(self, key, /)\n",
      " |      Return key in self.\n",
      " |  \n",
      " |  __eq__(self, value, /)\n",
      " |      Return self==value.\n",
      " |  \n",
      " |  __ge__(self, value, /)\n",
      " |      Return self>=value.\n",
      " |  \n",
      " |  __getattribute__(self, name, /)\n",
      " |      Return getattr(self, name).\n",
      " |  \n",
      " |  __getitem__(self, key, /)\n",
      " |      Return self[key].\n",
      " |  \n",
      " |  __gt__(self, value, /)\n",
      " |      Return self>value.\n",
      " |  \n",
      " |  __hash__(self, /)\n",
      " |      Return hash(self).\n",
      " |  \n",
      " |  __iter__(self, /)\n",
      " |      Implement iter(self).\n",
      " |  \n",
      " |  __le__(self, value, /)\n",
      " |      Return self<=value.\n",
      " |  \n",
      " |  __len__(self, /)\n",
      " |      Return len(self).\n",
      " |  \n",
      " |  __lt__(self, value, /)\n",
      " |      Return self<value.\n",
      " |  \n",
      " |  __ne__(self, value, /)\n",
      " |      Return self!=value.\n",
      " |  \n",
      " |  __new__(*args, **kwargs) from builtins.type\n",
      " |      Create and return a new object.  See help(type) for accurate signature.\n",
      " |  \n",
      " |  __reduce__(...)\n",
      " |      helper for pickle\n",
      " |  \n",
      " |  __repr__(self, /)\n",
      " |      Return repr(self).\n",
      " |  \n",
      " |  __reversed__(...)\n",
      " |      Return a reverse iterator.\n",
      " |  \n",
      " |  count(...)\n",
      " |      rangeobject.count(value) -> integer -- return number of occurrences of value\n",
      " |  \n",
      " |  index(...)\n",
      " |      rangeobject.index(value, [start, [stop]]) -> integer -- return index of value.\n",
      " |      Raise ValueError if the value is not present.\n",
      " |  \n",
      " |  ----------------------------------------------------------------------\n",
      " |  Data descriptors defined here:\n",
      " |  \n",
      " |  start\n",
      " |  \n",
      " |  step\n",
      " |  \n",
      " |  stop\n",
      "\n"
     ]
    }
   ],
   "source": [
    "help(range)"
   ]
  },
  {
   "cell_type": "markdown",
   "metadata": {
    "collapsed": true,
    "slideshow": {
     "slide_type": "slide"
    }
   },
   "source": [
    "## Data structures"
   ]
  },
  {
   "cell_type": "markdown",
   "metadata": {
    "slideshow": {
     "slide_type": "slide"
    }
   },
   "source": [
    "### 1. Lists"
   ]
  },
  {
   "cell_type": "markdown",
   "metadata": {
    "slideshow": {
     "slide_type": "fragment"
    }
   },
   "source": [
    "> Finite, ordered, mutable sequence of elements"
   ]
  },
  {
   "cell_type": "code",
   "execution_count": null,
   "metadata": {
    "collapsed": true,
    "slideshow": {
     "slide_type": "fragment"
    }
   },
   "outputs": [],
   "source": [
    "simple_list = [1, 2, 3]"
   ]
  },
  {
   "cell_type": "code",
   "execution_count": null,
   "metadata": {
    "collapsed": true,
    "slideshow": {
     "slide_type": "subslide"
    }
   },
   "outputs": [],
   "source": [
    "# Create a new list\n",
    "empty = []\n",
    "letters = ['a', 'b', 'c', 'd']\n",
    "numbers = [2, 3, 5]"
   ]
  },
  {
   "cell_type": "code",
   "execution_count": null,
   "metadata": {
    "collapsed": true,
    "slideshow": {
     "slide_type": "fragment"
    }
   },
   "outputs": [],
   "source": [
    "# Lists can contain elements of different types\n",
    "mixed = [4, 5, \"seconds\"]"
   ]
  },
  {
   "cell_type": "code",
   "execution_count": null,
   "metadata": {
    "collapsed": true,
    "slideshow": {
     "slide_type": "fragment"
    }
   },
   "outputs": [],
   "source": [
    "# Append elements to the end of a list\n",
    "numbers.append(7) # numbers == [2, 3, 5, 7]\n",
    "numbers.append(11) # numbers == [2, 3, 5, 7, 11]"
   ]
  },
  {
   "cell_type": "code",
   "execution_count": null,
   "metadata": {
    "collapsed": true,
    "slideshow": {
     "slide_type": "fragment"
    }
   },
   "outputs": [],
   "source": [
    "# Access elements at a particular index\n",
    "numbers[0] # => 2\n",
    "numbers[-1] # => 11"
   ]
  },
  {
   "cell_type": "code",
   "execution_count": null,
   "metadata": {
    "collapsed": true,
    "slideshow": {
     "slide_type": "fragment"
    }
   },
   "outputs": [],
   "source": [
    "# You can also slice lists - the usual rules apply\n",
    "letters[:3] # => ['a', 'b', 'c']\n",
    "numbers[1:-1] # => [3, 5, 7]"
   ]
  },
  {
   "cell_type": "code",
   "execution_count": null,
   "metadata": {
    "collapsed": true,
    "slideshow": {
     "slide_type": "subslide"
    }
   },
   "outputs": [],
   "source": [
    "# Nested lists\n",
    "#\n",
    "# Lists really can contain anything - even other lists!\n",
    "x = [letters, numbers]\n",
    "x # => [['a', 'b', 'c', 'd'], [2, 3, 5, 7, 11]]\n",
    "x[0] # => ['a', 'b', 'c', 'd']\n",
    "x[0][1] # => 'b'\n",
    "x[1][2:] # => [5, 7, 11]"
   ]
  },
  {
   "cell_type": "markdown",
   "metadata": {
    "slideshow": {
     "slide_type": "subslide"
    }
   },
   "source": [
    "Methods reference"
   ]
  },
  {
   "cell_type": "code",
   "execution_count": null,
   "metadata": {
    "collapsed": true,
    "slideshow": {
     "slide_type": "subslide"
    }
   },
   "outputs": [],
   "source": [
    "# Extend list by appending elements from the iterable\n",
    "my_list.extend(iterable)\n",
    "# Insert object before index\n",
    "my_list.insert(index, object)\n",
    "# Remove first occurrence of value, or raise ValueError\n",
    "my_list.remove(value)\n",
    "# Remove all items\n",
    "my_list.clear()"
   ]
  },
  {
   "cell_type": "code",
   "execution_count": null,
   "metadata": {
    "collapsed": true,
    "slideshow": {
     "slide_type": "subslide"
    }
   },
   "outputs": [],
   "source": [
    "# Return number of occurrences of value\n",
    "my_list.count(value)\n",
    "# Return first index of value, or raise ValueError\n",
    "my_list.index(value, [start, [stop]])\n",
    "# Remove, return item at index (def. last) or IndexError\n",
    "my_list.pop([index])\n",
    "# Stable sort *in place*\n",
    "my_list.sort(key=None, reverse=False)\n",
    "# Reverse *in place*.\n",
    "my_list.reverse()"
   ]
  },
  {
   "cell_type": "code",
   "execution_count": null,
   "metadata": {
    "collapsed": true,
    "slideshow": {
     "slide_type": "subslide"
    }
   },
   "outputs": [],
   "source": [
    "# Length (len)\n",
    "len([]) # => 0\n",
    "len(\"python\") # => 6\n",
    "len([4,5,\"seconds\"]) # => 3"
   ]
  },
  {
   "cell_type": "code",
   "execution_count": null,
   "metadata": {
    "collapsed": true,
    "slideshow": {
     "slide_type": "fragment"
    }
   },
   "outputs": [],
   "source": [
    "# Membership (in)\n",
    "0 in [] # => False\n",
    "'y' in 'python' # => True\n",
    "'minutes' in [4, 5, 'seconds'] # => False"
   ]
  },
  {
   "cell_type": "markdown",
   "metadata": {
    "slideshow": {
     "slide_type": "slide"
    }
   },
   "source": [
    "### 2. Dictionary"
   ]
  },
  {
   "cell_type": "markdown",
   "metadata": {
    "slideshow": {
     "slide_type": "fragment"
    }
   },
   "source": [
    "> Mutable map from hashable values to arbitrary objects"
   ]
  },
  {
   "cell_type": "markdown",
   "metadata": {
    "slideshow": {
     "slide_type": "fragment"
    }
   },
   "source": [
    "Keys can be a variety of types, as long as they are hashable. Values can be a variety of types too."
   ]
  },
  {
   "cell_type": "code",
   "execution_count": null,
   "metadata": {
    "collapsed": true,
    "slideshow": {
     "slide_type": "subslide"
    }
   },
   "outputs": [],
   "source": [
    "empty = {}\n",
    "type(empty) # => dict\n",
    "empty == dict() # => True"
   ]
  },
  {
   "cell_type": "code",
   "execution_count": null,
   "metadata": {
    "collapsed": true,
    "slideshow": {
     "slide_type": "fragment"
    }
   },
   "outputs": [],
   "source": [
    "a = dict(one=1, two=2, three=3)\n",
    "b = {\"one\": 1, \"two\": 2, \"three\": 3}\n",
    "a == b # => True"
   ]
  },
  {
   "cell_type": "code",
   "execution_count": null,
   "metadata": {
    "collapsed": true,
    "slideshow": {
     "slide_type": "subslide"
    }
   },
   "outputs": [],
   "source": [
    "b = {\"one\": 1, \"two\": 2, \"three\": 3}\n",
    "\n",
    "# Get\n",
    "d['one'] # => 1\n",
    "d['five'] # raises KeyError\n",
    "\n",
    "# Set\n",
    "d['two'] = 22 # Modify an existing key\n",
    "d['four'] = 4 # Add a new key"
   ]
  },
  {
   "cell_type": "code",
   "execution_count": null,
   "metadata": {
    "collapsed": true,
    "slideshow": {
     "slide_type": "subslide"
    }
   },
   "outputs": [],
   "source": [
    "d = {\"CS\":[106, 107, 110], \"MATH\": [51, 113]}\n",
    "\n",
    "d[\"COMPSCI\"] # raises KeyError\n",
    "\n",
    "# Use get() method to avoid the KeyError\n",
    "d.get(\"CS\") # => [106, 107, 110]\n",
    "d.get(\"PHIL\") # => None (not a KeyError!)\n",
    "\n",
    "english_classes = d.get(\"ENGLISH\", [])\n",
    "num_english = len(english_classes)"
   ]
  },
  {
   "cell_type": "code",
   "execution_count": null,
   "metadata": {
    "collapsed": true,
    "slideshow": {
     "slide_type": "subslide"
    }
   },
   "outputs": [],
   "source": [
    "d = {\"one\": 1, \"two\": 2, \"three\": 3}\n",
    "\n",
    "#Raises KeyError if invalid key\n",
    "del d[\"one\"]\n",
    "\n",
    "#Remove and return d['three'] or default value if not in the map\n",
    "d.pop(\"three\", default) # => 3\n",
    "\n",
    "# Remove and return an arbitrary (key, value) pair. Useful for destructive iteration\n",
    "d.popitem() # => (\"two\", 2)"
   ]
  },
  {
   "cell_type": "code",
   "execution_count": null,
   "metadata": {
    "collapsed": true,
    "slideshow": {
     "slide_type": "subslide"
    }
   },
   "outputs": [],
   "source": [
    "d = {\"one\": 1, \"two\": 2, \"three\": 3}\n",
    "\n",
    "# These dictionary views are dynamic, reflecting changes in the underlying dictionary!\n",
    "d.keys()\n",
    "d.values()\n",
    "d.items()\n",
    "\n",
    "('one', 1) in d.items()"
   ]
  },
  {
   "cell_type": "code",
   "execution_count": null,
   "metadata": {
    "collapsed": true,
    "slideshow": {
     "slide_type": "subslide"
    }
   },
   "outputs": [],
   "source": [
    "len(d)\n",
    "\n",
    "key in d # equiv. to `key in d.keys()`\n",
    "\n",
    "value in d.values()\n",
    "\n",
    "d.copy()\n",
    "d.clear()\n",
    "\n",
    "for key in d: # equiv. to `for key in d.keys():`\n",
    "    print(key)"
   ]
  },
  {
   "cell_type": "markdown",
   "metadata": {
    "collapsed": true,
    "slideshow": {
     "slide_type": "slide"
    }
   },
   "source": [
    "### 3. Tuples"
   ]
  },
  {
   "cell_type": "markdown",
   "metadata": {
    "slideshow": {
     "slide_type": "fragment"
    }
   },
   "source": [
    "> Immutable Sequences\n",
    ">\n",
    "> To:\n",
    "> 1. Store collections of heterogeneous data\n",
    "> 2. \"Freeze\" sequence to ensure hashability\n",
    "> 3. Enforce immutability for fixed-size collections"
   ]
  },
  {
   "cell_type": "code",
   "execution_count": null,
   "metadata": {
    "collapsed": true,
    "slideshow": {
     "slide_type": "subslide"
    }
   },
   "outputs": [],
   "source": [
    "fish = (1, 2, \"red\", \"blue\")\n",
    "fish[0] # => 1\n",
    "fish[0] = 7 # Raises a TypeError"
   ]
  },
  {
   "cell_type": "code",
   "execution_count": null,
   "metadata": {
    "collapsed": true,
    "slideshow": {
     "slide_type": "fragment"
    }
   },
   "outputs": [],
   "source": [
    "len(fish) # => 4\n",
    "fish[:2] # => (1, 2)\n",
    "\"red\" in fish # => True"
   ]
  },
  {
   "cell_type": "markdown",
   "metadata": {
    "slideshow": {
     "slide_type": "subslide"
    }
   },
   "source": [
    "#### Argument Packing and Unpacking"
   ]
  },
  {
   "cell_type": "code",
   "execution_count": null,
   "metadata": {
    "collapsed": true,
    "slideshow": {
     "slide_type": "fragment"
    }
   },
   "outputs": [],
   "source": [
    "# Comma-separated Rvalues are converted to a tuple\n",
    "t = 12345, 54321, 'hello!'\n",
    "print(t) # (12345, 54321, 'hello!')\n",
    "type(t) # => tuple"
   ]
  },
  {
   "cell_type": "code",
   "execution_count": null,
   "metadata": {
    "collapsed": true,
    "slideshow": {
     "slide_type": "fragment"
    }
   },
   "outputs": [],
   "source": [
    "# Comma-separated Lvalues are unpacked automatically\n",
    "x, y, z = t\n",
    "x # => 12345\n",
    "y # => 54321\n",
    "z # => 'hello!'"
   ]
  },
  {
   "cell_type": "code",
   "execution_count": null,
   "metadata": {
    "collapsed": true,
    "slideshow": {
     "slide_type": "subslide"
    }
   },
   "outputs": [],
   "source": [
    "for index, color in enumerate(['red','green','blue']):\n",
    "    print(index, color)\n",
    "    \n",
    "# =>\n",
    "# 0 red\n",
    "# 1 green\n",
    "# 2 blue\n",
    "\n",
    "# SOOOOoooooo:\n",
    "#This also means you should almost never use\n",
    "for i in range(len(sequence)):\n",
    "    pass"
   ]
  },
  {
   "cell_type": "markdown",
   "metadata": {
    "slideshow": {
     "slide_type": "subslide"
    }
   },
   "source": [
    "> Tuples contain (immutable) references to underlying objects!"
   ]
  },
  {
   "cell_type": "code",
   "execution_count": null,
   "metadata": {
    "collapsed": true,
    "slideshow": {
     "slide_type": "fragment"
    }
   },
   "outputs": [],
   "source": [
    "v = ([1, 2, 3], ['a', 'b', 'c'])\n",
    "v[0].append(4)\n",
    "v # => ([1, 2, 3, 4], ['a', 'b', 'c'])"
   ]
  },
  {
   "cell_type": "markdown",
   "metadata": {
    "slideshow": {
     "slide_type": "subslide"
    }
   },
   "source": [
    "A special problem is the construction of tuples containing 0 or 1 items: the syntax has some extra quirks to accommodate these. Empty tuples are constructed by an empty pair of parentheses; a tuple with one item is constructed by following a value with a comma (it is not sufficient to enclose a single value in parentheses). Ugly, but effective. For example:"
   ]
  },
  {
   "cell_type": "code",
   "execution_count": null,
   "metadata": {
    "slideshow": {
     "slide_type": "fragment"
    }
   },
   "outputs": [],
   "source": [
    ">>> empty = ()\n",
    ">>> singleton = 'hello',    # <-- note trailing comma\n",
    ">>> len(empty)\n",
    "0\n",
    ">>> len(singleton)\n",
    "1\n",
    ">>> singleton\n",
    "('hello',)"
   ]
  },
  {
   "cell_type": "markdown",
   "metadata": {
    "slideshow": {
     "slide_type": "slide"
    }
   },
   "source": [
    "### 4. Sets"
   ]
  },
  {
   "cell_type": "markdown",
   "metadata": {
    "slideshow": {
     "slide_type": "fragment"
    }
   },
   "source": [
    "> Unordered collection of distinct hashable elements\n",
    ">\n",
    "> To:\n",
    "> 1. Fast membership testing: O(1) vs. O(n)\n",
    "> 2. Eliminate duplicate entries\n",
    "> 3. Easy set operations (intersection, union, etc.)"
   ]
  },
  {
   "cell_type": "code",
   "execution_count": null,
   "metadata": {
    "collapsed": true,
    "slideshow": {
     "slide_type": "fragment"
    }
   },
   "outputs": [],
   "source": [
    "s = {1, 2, 3}"
   ]
  },
  {
   "cell_type": "code",
   "execution_count": null,
   "metadata": {
    "slideshow": {
     "slide_type": "subslide"
    }
   },
   "outputs": [],
   "source": [
    "empty_set = set()\n",
    "set_from_list = set([1, 2, 1, 4, 3]) # => {1, 3, 4, 2}\n",
    "\n",
    "basket = {\"apple\", \"orange\", \"apple\", \"pear\", \"banana\"}\n",
    "len(basket) # => 4\n",
    "\n",
    "\"orange\" in basket # => True\n",
    "\"crabgrass\" in basket # => False\n",
    "\n",
    "for fruit in basket:\n",
    "    print(fruit, end='/')\n",
    "# => pear/banana/apple/orange/"
   ]
  },
  {
   "cell_type": "code",
   "execution_count": null,
   "metadata": {
    "collapsed": true,
    "slideshow": {
     "slide_type": "subslide"
    }
   },
   "outputs": [],
   "source": [
    "a = set(\"mississippi\") # {'i', 'm', 'p', 's'}\n",
    "\n",
    "a.add('r')\n",
    "a.remove('m') # raises KeyError if 'm' is not present\n",
    "a.discard('x') # same as remove, except no error\n",
    "\n",
    "a.pop() # => 's' (or 'i' or 'p')\n",
    "\n",
    "a.clear()\n",
    "\n",
    "len(a) # => 0"
   ]
  },
  {
   "cell_type": "code",
   "execution_count": null,
   "metadata": {
    "collapsed": true,
    "slideshow": {
     "slide_type": "subslide"
    }
   },
   "outputs": [],
   "source": [
    "a = set(\"abracadabra\") # {'a', 'r', 'b', 'c', 'd'}\n",
    "b = set(\"alacazam\") # {'a', 'm', 'c', 'l', 'z'}\n",
    "\n",
    "# Set difference\n",
    "a - b # => {'r', 'd', 'b'}\n",
    "\n",
    "# Union\n",
    "a | b # => {'a', 'c', 'r', 'd', 'b', 'm', 'z', 'l'}\n",
    "\n",
    "# Intersection\n",
    "a & b # => {'a', 'c'}\n",
    "\n",
    "# Symmetric Difference\n",
    "a ^ b # => {'r', 'd', 'b', 'm', 'z', 'l'}"
   ]
  },
  {
   "cell_type": "markdown",
   "metadata": {
    "slideshow": {
     "slide_type": "subslide"
    }
   },
   "source": [
    "> goto opt02 :) part 2"
   ]
  },
  {
   "cell_type": "markdown",
   "metadata": {
    "slideshow": {
     "slide_type": "slide"
    }
   },
   "source": [
    "### Loops"
   ]
  },
  {
   "cell_type": "markdown",
   "metadata": {
    "slideshow": {
     "slide_type": "subslide"
    }
   },
   "source": [
    "#### Items in Dictionary"
   ]
  },
  {
   "cell_type": "code",
   "execution_count": null,
   "metadata": {
    "collapsed": true,
    "slideshow": {
     "slide_type": "fragment"
    }
   },
   "outputs": [],
   "source": [
    "knights = {'gallahad': 'the pure', 'robin': 'the brave'}\n",
    "\n",
    "for k, v in knights.items():\n",
    "    print(k, v)\n",
    "\n",
    "# =>\n",
    "# gallahad the pure\n",
    "# robin the brave"
   ]
  },
  {
   "cell_type": "markdown",
   "metadata": {
    "slideshow": {
     "slide_type": "subslide"
    }
   },
   "source": [
    "#### zip"
   ]
  },
  {
   "cell_type": "code",
   "execution_count": 18,
   "metadata": {
    "slideshow": {
     "slide_type": "fragment"
    }
   },
   "outputs": [
    {
     "name": "stdout",
     "output_type": "stream",
     "text": [
      "What is your name? Lancelot.\n",
      "What is your quest? To seek the holy grail.\n",
      "What is your favorite color? Blue.\n"
     ]
    }
   ],
   "source": [
    "questions = ['name', 'quest', 'favorite color', 'BAD']\n",
    "answers = ['Lancelot', 'To seek the holy grail', 'Blue']\n",
    "\n",
    "for q, a in zip(questions, answers):\n",
    "    print('What is your {0}? {1}.'.format(q, a))\n",
    "\n",
    "# =>\n",
    "# What is your name? Lancelot.\n",
    "# What is your quest? To seek the holy grail.\n",
    "# What is your favorite color? Blue."
   ]
  },
  {
   "cell_type": "markdown",
   "metadata": {
    "slideshow": {
     "slide_type": "fragment"
    }
   },
   "source": [
    "The zip() function generates pairs of entries from its arguments."
   ]
  },
  {
   "cell_type": "code",
   "execution_count": 18,
   "metadata": {},
   "outputs": [
    {
     "name": "stdout",
     "output_type": "stream",
     "text": [
      "('Aston', 'Audi', 'McLaren')\n",
      "('GPS', 'Car Repair', 'Dolby sound kit')\n"
     ]
    }
   ],
   "source": [
    "# Unzip lists \n",
    "l1,l2 = zip(*[('Aston', 'GPS'),  \n",
    "              ('Audi', 'Car Repair'),  \n",
    "              ('McLaren', 'Dolby sound kit')  \n",
    "           ]) \n",
    "  \n",
    "# Printing unzipped lists       \n",
    "print(l1) \n",
    "print(l2) "
   ]
  },
  {
   "cell_type": "markdown",
   "metadata": {
    "slideshow": {
     "slide_type": "subslide"
    }
   },
   "source": [
    "#### Reverse Iteration"
   ]
  },
  {
   "cell_type": "code",
   "execution_count": null,
   "metadata": {
    "slideshow": {
     "slide_type": "fragment"
    }
   },
   "outputs": [],
   "source": [
    "for i in reversed(range(1, 10, 2)):\n",
    "    print(i, end=', ')\n",
    "# =>\n",
    "# 9, 7, 5, 3, 1,"
   ]
  },
  {
   "cell_type": "markdown",
   "metadata": {
    "slideshow": {
     "slide_type": "subslide"
    }
   },
   "source": [
    "#### Sorted Iteration"
   ]
  },
  {
   "cell_type": "code",
   "execution_count": null,
   "metadata": {
    "collapsed": true,
    "slideshow": {
     "slide_type": "fragment"
    }
   },
   "outputs": [],
   "source": [
    "basket = ['pear', 'banana', 'orange', 'pear', 'apple']\n",
    "\n",
    "for fruit in sorted(basket):\n",
    "    print(fruit)\n",
    "\n",
    "# =>\n",
    "# apple\n",
    "# banana\n",
    "# orange\n",
    "# pear\n",
    "# pear"
   ]
  },
  {
   "cell_type": "markdown",
   "metadata": {
    "slideshow": {
     "slide_type": "fragment"
    }
   },
   "source": [
    "To loop over a sequence in sorted order, use the sorted() function which returns a new sorted list while leaving the source unaltered."
   ]
  },
  {
   "cell_type": "markdown",
   "metadata": {
    "slideshow": {
     "slide_type": "slide"
    }
   },
   "source": [
    "### Comprehensions"
   ]
  },
  {
   "cell_type": "markdown",
   "metadata": {
    "slideshow": {
     "slide_type": "subslide"
    }
   },
   "source": [
    "**List comprehensions** provide a concise way to create lists. Common applications are to make new lists where each element is the result of some operations applied to each member of another sequence or iterable, or to create a subsequence of those elements that satisfy a certain condition."
   ]
  },
  {
   "cell_type": "code",
   "execution_count": 12,
   "metadata": {
    "slideshow": {
     "slide_type": "fragment"
    }
   },
   "outputs": [
    {
     "data": {
      "text/plain": [
       "[0, 1, 4, 9, 16, 25, 36, 49, 64, 81]"
      ]
     },
     "execution_count": 12,
     "metadata": {},
     "output_type": "execute_result"
    }
   ],
   "source": [
    "squares = []\n",
    "for x in range(10):\n",
    "    squares.append(x**2)\n",
    "\n",
    "squares"
   ]
  },
  {
   "cell_type": "code",
   "execution_count": null,
   "metadata": {
    "slideshow": {
     "slide_type": "fragment"
    }
   },
   "outputs": [],
   "source": [
    "squares = [x**2 for x in range(10)]"
   ]
  },
  {
   "cell_type": "code",
   "execution_count": null,
   "metadata": {
    "slideshow": {
     "slide_type": "fragment"
    }
   },
   "outputs": [],
   "source": [
    "[f(xs) for xs in iter]\n",
    "# Loop over the specified iterable and apply some operation to generate new list elements"
   ]
  },
  {
   "cell_type": "code",
   "execution_count": null,
   "metadata": {
    "slideshow": {
     "slide_type": "fragment"
    }
   },
   "outputs": [],
   "source": [
    "[f(xs) for xs in iter if pred(xs)]\n",
    "# Only keep elements that satisfy a predicate condition"
   ]
  },
  {
   "cell_type": "code",
   "execution_count": null,
   "metadata": {
    "slideshow": {
     "slide_type": "subslide"
    }
   },
   "outputs": [],
   "source": [
    "[word.lower() for word in sentence]\n",
    "\n",
    "[word for word in sentence if len(word) > 8]\n",
    "\n",
    "[(x, x ** 2, x ** 3) for x in range(10)]\n",
    "\n",
    "[(i,j) for i in range(5) for j in range(i)]"
   ]
  },
  {
   "cell_type": "code",
   "execution_count": 20,
   "metadata": {
    "slideshow": {
     "slide_type": "subslide"
    }
   },
   "outputs": [
    {
     "data": {
      "text/plain": [
       "[(1, 0),\n",
       " (2, 0),\n",
       " (2, 1),\n",
       " (3, 0),\n",
       " (3, 1),\n",
       " (3, 2),\n",
       " (4, 0),\n",
       " (4, 1),\n",
       " (4, 2),\n",
       " (4, 3)]"
      ]
     },
     "execution_count": 20,
     "metadata": {},
     "output_type": "execute_result"
    }
   ],
   "source": [
    "[(i,j) for i in range(5) for j in range(i)]"
   ]
  },
  {
   "cell_type": "code",
   "execution_count": null,
   "metadata": {
    "slideshow": {
     "slide_type": "subslide"
    }
   },
   "outputs": [],
   "source": [
    "[(x, y) for x in [1,2,3] for y in [3,1,4] if x != y]"
   ]
  },
  {
   "cell_type": "markdown",
   "metadata": {
    "slideshow": {
     "slide_type": "fragment"
    }
   },
   "source": [
    "it’s equivalent to"
   ]
  },
  {
   "cell_type": "code",
   "execution_count": 13,
   "metadata": {
    "slideshow": {
     "slide_type": "fragment"
    }
   },
   "outputs": [
    {
     "data": {
      "text/plain": [
       "[(1, 3), (1, 4), (2, 3), (2, 1), (2, 4), (3, 1), (3, 4)]"
      ]
     },
     "execution_count": 13,
     "metadata": {},
     "output_type": "execute_result"
    }
   ],
   "source": [
    "combs = []\n",
    "for x in [1,2,3]:\n",
    "    for y in [3,1,4]:\n",
    "        if x != y:\n",
    "            combs.append((x, y))\n",
    "combs"
   ]
  },
  {
   "cell_type": "code",
   "execution_count": null,
   "metadata": {
    "collapsed": true,
    "slideshow": {
     "slide_type": "subslide"
    }
   },
   "outputs": [],
   "source": [
    "# Dictionary Comprehensions\n",
    "{key_func(vars):val_func(vars) for vars in iterable}\n",
    "{v:k for k, v in d.items()}"
   ]
  },
  {
   "cell_type": "code",
   "execution_count": null,
   "metadata": {
    "collapsed": true,
    "slideshow": {
     "slide_type": "fragment"
    }
   },
   "outputs": [],
   "source": [
    "# Set Comprehensions\n",
    "{func(vars) for vars in iterable}\n",
    "{word for word in hamlet if is_palindrome(word.lower())}"
   ]
  },
  {
   "cell_type": "code",
   "execution_count": 17,
   "metadata": {
    "slideshow": {
     "slide_type": "subslide"
    }
   },
   "outputs": [
    {
     "data": {
      "text/plain": [
       "True"
      ]
     },
     "execution_count": 17,
     "metadata": {},
     "output_type": "execute_result"
    }
   ],
   "source": [
    "# (1, 2, 3)              < (1, 2, 4)                    # True\n",
    "[1, 2, 3]              < [1, 2, 4]\n",
    "# 'ABC' < 'C' < 'Pascal' < 'Python'\n",
    "# (1, 2, 3, 4)           < (1, 2, 4)\n",
    "# (1, 2)                 < (1, 2, -1)\n",
    "# (1, 2, 3)             == (1.0, 2.0, 3.0)\n",
    "# (1, 2, ('aa', 'ab'))   < (1, 2, ('abc', 'a'), 4)"
   ]
  },
  {
   "cell_type": "markdown",
   "metadata": {
    "slideshow": {
     "slide_type": "fragment"
    }
   },
   "source": [
    "Sequence objects may be compared to other objects with the same sequence type. The comparison uses lexicographical ordering: first the first two items are compared, and if they differ this determines the outcome of the comparison; if not, the next two items are compared, and so on..."
   ]
  },
  {
   "cell_type": "markdown",
   "metadata": {
    "slideshow": {
     "slide_type": "slide"
    }
   },
   "source": [
    "## Time complexity???"
   ]
  },
  {
   "cell_type": "markdown",
   "metadata": {
    "slideshow": {
     "slide_type": "fragment"
    }
   },
   "source": [
    "[https://wiki.python.org/moin/TimeComplexity](https://wiki.python.org/moin/TimeComplexity)"
   ]
  },
  {
   "cell_type": "markdown",
   "metadata": {
    "slideshow": {
     "slide_type": "slide"
    }
   },
   "source": [
    "Source\n",
    "1. [http://treyhunner.com/2015/12/python-list-comprehensions-now-in-color/](http://treyhunner.com/2015/12/python-list-comprehensions-now-in-color/)\n"
   ]
  },
  {
   "cell_type": "markdown",
   "metadata": {
    "slideshow": {
     "slide_type": "slide"
    }
   },
   "source": [
    "## Is it really fast??"
   ]
  },
  {
   "cell_type": "code",
   "execution_count": 46,
   "metadata": {
    "slideshow": {
     "slide_type": "subslide"
    }
   },
   "outputs": [],
   "source": [
    "# https://codereview.stackexchange.com/questions/23441/are-these-list-comprehensions-written-the-fastest-possible-way\n",
    "import sys\n",
    "from datetime import datetime, timedelta\n",
    "import numpy\n",
    "from tqdm import tqdm\n",
    "import matplotlib.pyplot as pyplot\n",
    "pyplot.rcParams['figure.figsize'] = [10, 5]\n",
    "%matplotlib notebook\n",
    "\n",
    "def doingnothing(n):\n",
    "    for i in range(n):\n",
    "        pass\n",
    "    return []\n",
    "\n",
    "def numpysum(n): #NPY\n",
    "    a = numpy.arange(n) ** 2.\n",
    "    b = numpy.arange(n) ** 3.\n",
    "    c = a + b\n",
    "    return c\n",
    "\n",
    "def listexpression(n):  #LE\n",
    "    #return [x**2+x**3 for x in range(n)]\n",
    "    return [x*x+x*x*x for x in range(n)]\n",
    "\n",
    "def dictcomprehension(n):  #DC\n",
    "    # a = {x:x**2+x**3 for x in range(n)}\n",
    "    a = {x:x*x+x*x*x for x in range(n)}\n",
    "    # return [a[key] for key in a]\n",
    "    return list(a.values())\n",
    "\n",
    "def pythonsum(n): #PS\n",
    "    a = list(range(n))\n",
    "    b = list(range(n))\n",
    "    c = []\n",
    "\n",
    "    for i in range(len(a)):\n",
    "            # a[i] = i ** 2.\n",
    "            a[i] = i * i \n",
    "            # b[i] = i ** 3.\n",
    "            b[i] = i * i * i\n",
    "            c.append(a[i] + b[i])\n",
    "    return c\n",
    "\n",
    "def runtimetest(size,verbose=True,it=5):\n",
    "    v = verbose\n",
    "    d = {'DoingNothing':None,\n",
    "         'NPY':None,\n",
    "         'LE':None,\n",
    "         'DC':None,\n",
    "         'PS':None}\n",
    "\n",
    "    val = []\n",
    "    for i in range(it):\n",
    "        start = datetime.now()\n",
    "        c = doingnothing(size)\n",
    "        val.append(datetime.now() - start)\n",
    "    d['DoingNothing'] = sum(val, timedelta(0)) / len(val)\n",
    "\n",
    "    val = []\n",
    "    for i in range(it):\n",
    "        start = datetime.now()\n",
    "        c = numpysum(size)\n",
    "        val.append(datetime.now() - start)\n",
    "    d['NPY'] = sum(val, timedelta(0)) / len(val)\n",
    "\n",
    "    val = []\n",
    "    for i in range(it):\n",
    "        start = datetime.now()\n",
    "        c = listexpression(size)\n",
    "        val.append(datetime.now() - start)\n",
    "    d['LE'] = sum(val, timedelta(0)) / len(val)\n",
    "\n",
    "    val = []\n",
    "    for i in range(it):\n",
    "        start = datetime.now()\n",
    "        c = dictcomprehension(size)\n",
    "        val.append(datetime.now() - start)\n",
    "    d['DC'] = sum(val, timedelta(0)) / len(val)\n",
    "    \n",
    "    val = []\n",
    "    for i in range(it):\n",
    "        start = datetime.now()\n",
    "        c = pythonsum(size)\n",
    "        val.append(datetime.now() - start)\n",
    "    d['PS'] = sum(val, timedelta(0)) / len(val)\n",
    "        \n",
    "    return d\n",
    "\n",
    "def view(results):\n",
    "    \"\"\"\n",
    "    result['header']=['DoingNothing','NPY','LE','DC','PS']\n",
    "    result[3000]=[0.0, 0.0, 0.002, 0.003, 0.003001] \n",
    "    \"\"\"\n",
    "    if 'header' in results.keys():\n",
    "        results.pop('header')\n",
    "\n",
    "    steps,DN,NPY,LE,DC,PS=[],[],[],[],[],[] #I love multiple assignment!\n",
    "#     import pprint\n",
    "#     pprint.pprint(results)\n",
    "    for step in sorted(results):\n",
    "        steps.append(step)\n",
    "        DN.append(results[step][0])\n",
    "        NPY.append(results[step][1])\n",
    "        LE.append(results[step][2])\n",
    "        DC.append(results[step][3])\n",
    "        PS.append(results[step][4])\n",
    "\n",
    "    pyplot.plot(steps,DN)\n",
    "    pyplot.plot(steps,NPY)\n",
    "    pyplot.plot(steps,LE)\n",
    "    pyplot.plot(steps,DC)\n",
    "    pyplot.plot(steps,PS)\n",
    "    pyplot.legend(['Empty Loop', 'Numpy.Arange', 'List Comprehension', 'Dict Comprehension', 'Python for Loop'], loc='upper left')\n",
    "    scale = 'linear'\n",
    "    pyplot.xscale(scale)\n",
    "    pyplot.yscale(scale)\n",
    "    pyplot.title('runtime test')\n",
    "    pyplot.xlabel('length of list')\n",
    "    pyplot.ylabel('runtime in seconds')\n",
    "\n",
    "    pyplot.show()\n",
    "\n",
    "def longruntimetest(length, it):\n",
    "    if length<10**4:\n",
    "        length=10**4\n",
    "\n",
    "    result = {}\n",
    "    result['header']=['DoingNothing','NPY','LE','DC','PS']\n",
    "    for step in tqdm(range(10**3, length+1,10**3)):\n",
    "#         print(step)\n",
    "        t=runtimetest(step,verbose=False, it=it)        \n",
    "        result[step]=[t['DoingNothing'],t['NPY'],t['LE'],t['DC'],t['PS']]\n",
    "        for i in range(len(result[step])):\n",
    "            result[step][i]=round(result[step][i].seconds\n",
    "                                  +result[step][i].microseconds/10**6,6)\n",
    "\n",
    "    return result\n"
   ]
  },
  {
   "cell_type": "code",
   "execution_count": 47,
   "metadata": {
    "slideshow": {
     "slide_type": "subslide"
    }
   },
   "outputs": [],
   "source": [
    "testsize=10**5"
   ]
  },
  {
   "cell_type": "code",
   "execution_count": 48,
   "metadata": {
    "scrolled": true,
    "slideshow": {
     "slide_type": "fragment"
    }
   },
   "outputs": [
    {
     "name": "stderr",
     "output_type": "stream",
     "text": [
      "100%|████████████████████████████████████████████████████████████████████████████████| 100/100 [01:28<00:00,  1.76s/it]\n"
     ]
    }
   ],
   "source": [
    "result = longruntimetest(testsize, 20)"
   ]
  },
  {
   "cell_type": "code",
   "execution_count": 49,
   "metadata": {},
   "outputs": [
    {
     "data": {
      "application/javascript": [
       "/* Put everything inside the global mpl namespace */\n",
       "window.mpl = {};\n",
       "\n",
       "\n",
       "mpl.get_websocket_type = function() {\n",
       "    if (typeof(WebSocket) !== 'undefined') {\n",
       "        return WebSocket;\n",
       "    } else if (typeof(MozWebSocket) !== 'undefined') {\n",
       "        return MozWebSocket;\n",
       "    } else {\n",
       "        alert('Your browser does not have WebSocket support.' +\n",
       "              'Please try Chrome, Safari or Firefox ≥ 6. ' +\n",
       "              'Firefox 4 and 5 are also supported but you ' +\n",
       "              'have to enable WebSockets in about:config.');\n",
       "    };\n",
       "}\n",
       "\n",
       "mpl.figure = function(figure_id, websocket, ondownload, parent_element) {\n",
       "    this.id = figure_id;\n",
       "\n",
       "    this.ws = websocket;\n",
       "\n",
       "    this.supports_binary = (this.ws.binaryType != undefined);\n",
       "\n",
       "    if (!this.supports_binary) {\n",
       "        var warnings = document.getElementById(\"mpl-warnings\");\n",
       "        if (warnings) {\n",
       "            warnings.style.display = 'block';\n",
       "            warnings.textContent = (\n",
       "                \"This browser does not support binary websocket messages. \" +\n",
       "                    \"Performance may be slow.\");\n",
       "        }\n",
       "    }\n",
       "\n",
       "    this.imageObj = new Image();\n",
       "\n",
       "    this.context = undefined;\n",
       "    this.message = undefined;\n",
       "    this.canvas = undefined;\n",
       "    this.rubberband_canvas = undefined;\n",
       "    this.rubberband_context = undefined;\n",
       "    this.format_dropdown = undefined;\n",
       "\n",
       "    this.image_mode = 'full';\n",
       "\n",
       "    this.root = $('<div/>');\n",
       "    this._root_extra_style(this.root)\n",
       "    this.root.attr('style', 'display: inline-block');\n",
       "\n",
       "    $(parent_element).append(this.root);\n",
       "\n",
       "    this._init_header(this);\n",
       "    this._init_canvas(this);\n",
       "    this._init_toolbar(this);\n",
       "\n",
       "    var fig = this;\n",
       "\n",
       "    this.waiting = false;\n",
       "\n",
       "    this.ws.onopen =  function () {\n",
       "            fig.send_message(\"supports_binary\", {value: fig.supports_binary});\n",
       "            fig.send_message(\"send_image_mode\", {});\n",
       "            if (mpl.ratio != 1) {\n",
       "                fig.send_message(\"set_dpi_ratio\", {'dpi_ratio': mpl.ratio});\n",
       "            }\n",
       "            fig.send_message(\"refresh\", {});\n",
       "        }\n",
       "\n",
       "    this.imageObj.onload = function() {\n",
       "            if (fig.image_mode == 'full') {\n",
       "                // Full images could contain transparency (where diff images\n",
       "                // almost always do), so we need to clear the canvas so that\n",
       "                // there is no ghosting.\n",
       "                fig.context.clearRect(0, 0, fig.canvas.width, fig.canvas.height);\n",
       "            }\n",
       "            fig.context.drawImage(fig.imageObj, 0, 0);\n",
       "        };\n",
       "\n",
       "    this.imageObj.onunload = function() {\n",
       "        fig.ws.close();\n",
       "    }\n",
       "\n",
       "    this.ws.onmessage = this._make_on_message_function(this);\n",
       "\n",
       "    this.ondownload = ondownload;\n",
       "}\n",
       "\n",
       "mpl.figure.prototype._init_header = function() {\n",
       "    var titlebar = $(\n",
       "        '<div class=\"ui-dialog-titlebar ui-widget-header ui-corner-all ' +\n",
       "        'ui-helper-clearfix\"/>');\n",
       "    var titletext = $(\n",
       "        '<div class=\"ui-dialog-title\" style=\"width: 100%; ' +\n",
       "        'text-align: center; padding: 3px;\"/>');\n",
       "    titlebar.append(titletext)\n",
       "    this.root.append(titlebar);\n",
       "    this.header = titletext[0];\n",
       "}\n",
       "\n",
       "\n",
       "\n",
       "mpl.figure.prototype._canvas_extra_style = function(canvas_div) {\n",
       "\n",
       "}\n",
       "\n",
       "\n",
       "mpl.figure.prototype._root_extra_style = function(canvas_div) {\n",
       "\n",
       "}\n",
       "\n",
       "mpl.figure.prototype._init_canvas = function() {\n",
       "    var fig = this;\n",
       "\n",
       "    var canvas_div = $('<div/>');\n",
       "\n",
       "    canvas_div.attr('style', 'position: relative; clear: both; outline: 0');\n",
       "\n",
       "    function canvas_keyboard_event(event) {\n",
       "        return fig.key_event(event, event['data']);\n",
       "    }\n",
       "\n",
       "    canvas_div.keydown('key_press', canvas_keyboard_event);\n",
       "    canvas_div.keyup('key_release', canvas_keyboard_event);\n",
       "    this.canvas_div = canvas_div\n",
       "    this._canvas_extra_style(canvas_div)\n",
       "    this.root.append(canvas_div);\n",
       "\n",
       "    var canvas = $('<canvas/>');\n",
       "    canvas.addClass('mpl-canvas');\n",
       "    canvas.attr('style', \"left: 0; top: 0; z-index: 0; outline: 0\")\n",
       "\n",
       "    this.canvas = canvas[0];\n",
       "    this.context = canvas[0].getContext(\"2d\");\n",
       "\n",
       "    var backingStore = this.context.backingStorePixelRatio ||\n",
       "\tthis.context.webkitBackingStorePixelRatio ||\n",
       "\tthis.context.mozBackingStorePixelRatio ||\n",
       "\tthis.context.msBackingStorePixelRatio ||\n",
       "\tthis.context.oBackingStorePixelRatio ||\n",
       "\tthis.context.backingStorePixelRatio || 1;\n",
       "\n",
       "    mpl.ratio = (window.devicePixelRatio || 1) / backingStore;\n",
       "\n",
       "    var rubberband = $('<canvas/>');\n",
       "    rubberband.attr('style', \"position: absolute; left: 0; top: 0; z-index: 1;\")\n",
       "\n",
       "    var pass_mouse_events = true;\n",
       "\n",
       "    canvas_div.resizable({\n",
       "        start: function(event, ui) {\n",
       "            pass_mouse_events = false;\n",
       "        },\n",
       "        resize: function(event, ui) {\n",
       "            fig.request_resize(ui.size.width, ui.size.height);\n",
       "        },\n",
       "        stop: function(event, ui) {\n",
       "            pass_mouse_events = true;\n",
       "            fig.request_resize(ui.size.width, ui.size.height);\n",
       "        },\n",
       "    });\n",
       "\n",
       "    function mouse_event_fn(event) {\n",
       "        if (pass_mouse_events)\n",
       "            return fig.mouse_event(event, event['data']);\n",
       "    }\n",
       "\n",
       "    rubberband.mousedown('button_press', mouse_event_fn);\n",
       "    rubberband.mouseup('button_release', mouse_event_fn);\n",
       "    // Throttle sequential mouse events to 1 every 20ms.\n",
       "    rubberband.mousemove('motion_notify', mouse_event_fn);\n",
       "\n",
       "    rubberband.mouseenter('figure_enter', mouse_event_fn);\n",
       "    rubberband.mouseleave('figure_leave', mouse_event_fn);\n",
       "\n",
       "    canvas_div.on(\"wheel\", function (event) {\n",
       "        event = event.originalEvent;\n",
       "        event['data'] = 'scroll'\n",
       "        if (event.deltaY < 0) {\n",
       "            event.step = 1;\n",
       "        } else {\n",
       "            event.step = -1;\n",
       "        }\n",
       "        mouse_event_fn(event);\n",
       "    });\n",
       "\n",
       "    canvas_div.append(canvas);\n",
       "    canvas_div.append(rubberband);\n",
       "\n",
       "    this.rubberband = rubberband;\n",
       "    this.rubberband_canvas = rubberband[0];\n",
       "    this.rubberband_context = rubberband[0].getContext(\"2d\");\n",
       "    this.rubberband_context.strokeStyle = \"#000000\";\n",
       "\n",
       "    this._resize_canvas = function(width, height) {\n",
       "        // Keep the size of the canvas, canvas container, and rubber band\n",
       "        // canvas in synch.\n",
       "        canvas_div.css('width', width)\n",
       "        canvas_div.css('height', height)\n",
       "\n",
       "        canvas.attr('width', width * mpl.ratio);\n",
       "        canvas.attr('height', height * mpl.ratio);\n",
       "        canvas.attr('style', 'width: ' + width + 'px; height: ' + height + 'px;');\n",
       "\n",
       "        rubberband.attr('width', width);\n",
       "        rubberband.attr('height', height);\n",
       "    }\n",
       "\n",
       "    // Set the figure to an initial 600x600px, this will subsequently be updated\n",
       "    // upon first draw.\n",
       "    this._resize_canvas(600, 600);\n",
       "\n",
       "    // Disable right mouse context menu.\n",
       "    $(this.rubberband_canvas).bind(\"contextmenu\",function(e){\n",
       "        return false;\n",
       "    });\n",
       "\n",
       "    function set_focus () {\n",
       "        canvas.focus();\n",
       "        canvas_div.focus();\n",
       "    }\n",
       "\n",
       "    window.setTimeout(set_focus, 100);\n",
       "}\n",
       "\n",
       "mpl.figure.prototype._init_toolbar = function() {\n",
       "    var fig = this;\n",
       "\n",
       "    var nav_element = $('<div/>')\n",
       "    nav_element.attr('style', 'width: 100%');\n",
       "    this.root.append(nav_element);\n",
       "\n",
       "    // Define a callback function for later on.\n",
       "    function toolbar_event(event) {\n",
       "        return fig.toolbar_button_onclick(event['data']);\n",
       "    }\n",
       "    function toolbar_mouse_event(event) {\n",
       "        return fig.toolbar_button_onmouseover(event['data']);\n",
       "    }\n",
       "\n",
       "    for(var toolbar_ind in mpl.toolbar_items) {\n",
       "        var name = mpl.toolbar_items[toolbar_ind][0];\n",
       "        var tooltip = mpl.toolbar_items[toolbar_ind][1];\n",
       "        var image = mpl.toolbar_items[toolbar_ind][2];\n",
       "        var method_name = mpl.toolbar_items[toolbar_ind][3];\n",
       "\n",
       "        if (!name) {\n",
       "            // put a spacer in here.\n",
       "            continue;\n",
       "        }\n",
       "        var button = $('<button/>');\n",
       "        button.addClass('ui-button ui-widget ui-state-default ui-corner-all ' +\n",
       "                        'ui-button-icon-only');\n",
       "        button.attr('role', 'button');\n",
       "        button.attr('aria-disabled', 'false');\n",
       "        button.click(method_name, toolbar_event);\n",
       "        button.mouseover(tooltip, toolbar_mouse_event);\n",
       "\n",
       "        var icon_img = $('<span/>');\n",
       "        icon_img.addClass('ui-button-icon-primary ui-icon');\n",
       "        icon_img.addClass(image);\n",
       "        icon_img.addClass('ui-corner-all');\n",
       "\n",
       "        var tooltip_span = $('<span/>');\n",
       "        tooltip_span.addClass('ui-button-text');\n",
       "        tooltip_span.html(tooltip);\n",
       "\n",
       "        button.append(icon_img);\n",
       "        button.append(tooltip_span);\n",
       "\n",
       "        nav_element.append(button);\n",
       "    }\n",
       "\n",
       "    var fmt_picker_span = $('<span/>');\n",
       "\n",
       "    var fmt_picker = $('<select/>');\n",
       "    fmt_picker.addClass('mpl-toolbar-option ui-widget ui-widget-content');\n",
       "    fmt_picker_span.append(fmt_picker);\n",
       "    nav_element.append(fmt_picker_span);\n",
       "    this.format_dropdown = fmt_picker[0];\n",
       "\n",
       "    for (var ind in mpl.extensions) {\n",
       "        var fmt = mpl.extensions[ind];\n",
       "        var option = $(\n",
       "            '<option/>', {selected: fmt === mpl.default_extension}).html(fmt);\n",
       "        fmt_picker.append(option)\n",
       "    }\n",
       "\n",
       "    // Add hover states to the ui-buttons\n",
       "    $( \".ui-button\" ).hover(\n",
       "        function() { $(this).addClass(\"ui-state-hover\");},\n",
       "        function() { $(this).removeClass(\"ui-state-hover\");}\n",
       "    );\n",
       "\n",
       "    var status_bar = $('<span class=\"mpl-message\"/>');\n",
       "    nav_element.append(status_bar);\n",
       "    this.message = status_bar[0];\n",
       "}\n",
       "\n",
       "mpl.figure.prototype.request_resize = function(x_pixels, y_pixels) {\n",
       "    // Request matplotlib to resize the figure. Matplotlib will then trigger a resize in the client,\n",
       "    // which will in turn request a refresh of the image.\n",
       "    this.send_message('resize', {'width': x_pixels, 'height': y_pixels});\n",
       "}\n",
       "\n",
       "mpl.figure.prototype.send_message = function(type, properties) {\n",
       "    properties['type'] = type;\n",
       "    properties['figure_id'] = this.id;\n",
       "    this.ws.send(JSON.stringify(properties));\n",
       "}\n",
       "\n",
       "mpl.figure.prototype.send_draw_message = function() {\n",
       "    if (!this.waiting) {\n",
       "        this.waiting = true;\n",
       "        this.ws.send(JSON.stringify({type: \"draw\", figure_id: this.id}));\n",
       "    }\n",
       "}\n",
       "\n",
       "\n",
       "mpl.figure.prototype.handle_save = function(fig, msg) {\n",
       "    var format_dropdown = fig.format_dropdown;\n",
       "    var format = format_dropdown.options[format_dropdown.selectedIndex].value;\n",
       "    fig.ondownload(fig, format);\n",
       "}\n",
       "\n",
       "\n",
       "mpl.figure.prototype.handle_resize = function(fig, msg) {\n",
       "    var size = msg['size'];\n",
       "    if (size[0] != fig.canvas.width || size[1] != fig.canvas.height) {\n",
       "        fig._resize_canvas(size[0], size[1]);\n",
       "        fig.send_message(\"refresh\", {});\n",
       "    };\n",
       "}\n",
       "\n",
       "mpl.figure.prototype.handle_rubberband = function(fig, msg) {\n",
       "    var x0 = msg['x0'] / mpl.ratio;\n",
       "    var y0 = (fig.canvas.height - msg['y0']) / mpl.ratio;\n",
       "    var x1 = msg['x1'] / mpl.ratio;\n",
       "    var y1 = (fig.canvas.height - msg['y1']) / mpl.ratio;\n",
       "    x0 = Math.floor(x0) + 0.5;\n",
       "    y0 = Math.floor(y0) + 0.5;\n",
       "    x1 = Math.floor(x1) + 0.5;\n",
       "    y1 = Math.floor(y1) + 0.5;\n",
       "    var min_x = Math.min(x0, x1);\n",
       "    var min_y = Math.min(y0, y1);\n",
       "    var width = Math.abs(x1 - x0);\n",
       "    var height = Math.abs(y1 - y0);\n",
       "\n",
       "    fig.rubberband_context.clearRect(\n",
       "        0, 0, fig.canvas.width, fig.canvas.height);\n",
       "\n",
       "    fig.rubberband_context.strokeRect(min_x, min_y, width, height);\n",
       "}\n",
       "\n",
       "mpl.figure.prototype.handle_figure_label = function(fig, msg) {\n",
       "    // Updates the figure title.\n",
       "    fig.header.textContent = msg['label'];\n",
       "}\n",
       "\n",
       "mpl.figure.prototype.handle_cursor = function(fig, msg) {\n",
       "    var cursor = msg['cursor'];\n",
       "    switch(cursor)\n",
       "    {\n",
       "    case 0:\n",
       "        cursor = 'pointer';\n",
       "        break;\n",
       "    case 1:\n",
       "        cursor = 'default';\n",
       "        break;\n",
       "    case 2:\n",
       "        cursor = 'crosshair';\n",
       "        break;\n",
       "    case 3:\n",
       "        cursor = 'move';\n",
       "        break;\n",
       "    }\n",
       "    fig.rubberband_canvas.style.cursor = cursor;\n",
       "}\n",
       "\n",
       "mpl.figure.prototype.handle_message = function(fig, msg) {\n",
       "    fig.message.textContent = msg['message'];\n",
       "}\n",
       "\n",
       "mpl.figure.prototype.handle_draw = function(fig, msg) {\n",
       "    // Request the server to send over a new figure.\n",
       "    fig.send_draw_message();\n",
       "}\n",
       "\n",
       "mpl.figure.prototype.handle_image_mode = function(fig, msg) {\n",
       "    fig.image_mode = msg['mode'];\n",
       "}\n",
       "\n",
       "mpl.figure.prototype.updated_canvas_event = function() {\n",
       "    // Called whenever the canvas gets updated.\n",
       "    this.send_message(\"ack\", {});\n",
       "}\n",
       "\n",
       "// A function to construct a web socket function for onmessage handling.\n",
       "// Called in the figure constructor.\n",
       "mpl.figure.prototype._make_on_message_function = function(fig) {\n",
       "    return function socket_on_message(evt) {\n",
       "        if (evt.data instanceof Blob) {\n",
       "            /* FIXME: We get \"Resource interpreted as Image but\n",
       "             * transferred with MIME type text/plain:\" errors on\n",
       "             * Chrome.  But how to set the MIME type?  It doesn't seem\n",
       "             * to be part of the websocket stream */\n",
       "            evt.data.type = \"image/png\";\n",
       "\n",
       "            /* Free the memory for the previous frames */\n",
       "            if (fig.imageObj.src) {\n",
       "                (window.URL || window.webkitURL).revokeObjectURL(\n",
       "                    fig.imageObj.src);\n",
       "            }\n",
       "\n",
       "            fig.imageObj.src = (window.URL || window.webkitURL).createObjectURL(\n",
       "                evt.data);\n",
       "            fig.updated_canvas_event();\n",
       "            fig.waiting = false;\n",
       "            return;\n",
       "        }\n",
       "        else if (typeof evt.data === 'string' && evt.data.slice(0, 21) == \"data:image/png;base64\") {\n",
       "            fig.imageObj.src = evt.data;\n",
       "            fig.updated_canvas_event();\n",
       "            fig.waiting = false;\n",
       "            return;\n",
       "        }\n",
       "\n",
       "        var msg = JSON.parse(evt.data);\n",
       "        var msg_type = msg['type'];\n",
       "\n",
       "        // Call the  \"handle_{type}\" callback, which takes\n",
       "        // the figure and JSON message as its only arguments.\n",
       "        try {\n",
       "            var callback = fig[\"handle_\" + msg_type];\n",
       "        } catch (e) {\n",
       "            console.log(\"No handler for the '\" + msg_type + \"' message type: \", msg);\n",
       "            return;\n",
       "        }\n",
       "\n",
       "        if (callback) {\n",
       "            try {\n",
       "                // console.log(\"Handling '\" + msg_type + \"' message: \", msg);\n",
       "                callback(fig, msg);\n",
       "            } catch (e) {\n",
       "                console.log(\"Exception inside the 'handler_\" + msg_type + \"' callback:\", e, e.stack, msg);\n",
       "            }\n",
       "        }\n",
       "    };\n",
       "}\n",
       "\n",
       "// from http://stackoverflow.com/questions/1114465/getting-mouse-location-in-canvas\n",
       "mpl.findpos = function(e) {\n",
       "    //this section is from http://www.quirksmode.org/js/events_properties.html\n",
       "    var targ;\n",
       "    if (!e)\n",
       "        e = window.event;\n",
       "    if (e.target)\n",
       "        targ = e.target;\n",
       "    else if (e.srcElement)\n",
       "        targ = e.srcElement;\n",
       "    if (targ.nodeType == 3) // defeat Safari bug\n",
       "        targ = targ.parentNode;\n",
       "\n",
       "    // jQuery normalizes the pageX and pageY\n",
       "    // pageX,Y are the mouse positions relative to the document\n",
       "    // offset() returns the position of the element relative to the document\n",
       "    var x = e.pageX - $(targ).offset().left;\n",
       "    var y = e.pageY - $(targ).offset().top;\n",
       "\n",
       "    return {\"x\": x, \"y\": y};\n",
       "};\n",
       "\n",
       "/*\n",
       " * return a copy of an object with only non-object keys\n",
       " * we need this to avoid circular references\n",
       " * http://stackoverflow.com/a/24161582/3208463\n",
       " */\n",
       "function simpleKeys (original) {\n",
       "  return Object.keys(original).reduce(function (obj, key) {\n",
       "    if (typeof original[key] !== 'object')\n",
       "        obj[key] = original[key]\n",
       "    return obj;\n",
       "  }, {});\n",
       "}\n",
       "\n",
       "mpl.figure.prototype.mouse_event = function(event, name) {\n",
       "    var canvas_pos = mpl.findpos(event)\n",
       "\n",
       "    if (name === 'button_press')\n",
       "    {\n",
       "        this.canvas.focus();\n",
       "        this.canvas_div.focus();\n",
       "    }\n",
       "\n",
       "    var x = canvas_pos.x * mpl.ratio;\n",
       "    var y = canvas_pos.y * mpl.ratio;\n",
       "\n",
       "    this.send_message(name, {x: x, y: y, button: event.button,\n",
       "                             step: event.step,\n",
       "                             guiEvent: simpleKeys(event)});\n",
       "\n",
       "    /* This prevents the web browser from automatically changing to\n",
       "     * the text insertion cursor when the button is pressed.  We want\n",
       "     * to control all of the cursor setting manually through the\n",
       "     * 'cursor' event from matplotlib */\n",
       "    event.preventDefault();\n",
       "    return false;\n",
       "}\n",
       "\n",
       "mpl.figure.prototype._key_event_extra = function(event, name) {\n",
       "    // Handle any extra behaviour associated with a key event\n",
       "}\n",
       "\n",
       "mpl.figure.prototype.key_event = function(event, name) {\n",
       "\n",
       "    // Prevent repeat events\n",
       "    if (name == 'key_press')\n",
       "    {\n",
       "        if (event.which === this._key)\n",
       "            return;\n",
       "        else\n",
       "            this._key = event.which;\n",
       "    }\n",
       "    if (name == 'key_release')\n",
       "        this._key = null;\n",
       "\n",
       "    var value = '';\n",
       "    if (event.ctrlKey && event.which != 17)\n",
       "        value += \"ctrl+\";\n",
       "    if (event.altKey && event.which != 18)\n",
       "        value += \"alt+\";\n",
       "    if (event.shiftKey && event.which != 16)\n",
       "        value += \"shift+\";\n",
       "\n",
       "    value += 'k';\n",
       "    value += event.which.toString();\n",
       "\n",
       "    this._key_event_extra(event, name);\n",
       "\n",
       "    this.send_message(name, {key: value,\n",
       "                             guiEvent: simpleKeys(event)});\n",
       "    return false;\n",
       "}\n",
       "\n",
       "mpl.figure.prototype.toolbar_button_onclick = function(name) {\n",
       "    if (name == 'download') {\n",
       "        this.handle_save(this, null);\n",
       "    } else {\n",
       "        this.send_message(\"toolbar_button\", {name: name});\n",
       "    }\n",
       "};\n",
       "\n",
       "mpl.figure.prototype.toolbar_button_onmouseover = function(tooltip) {\n",
       "    this.message.textContent = tooltip;\n",
       "};\n",
       "mpl.toolbar_items = [[\"Home\", \"Reset original view\", \"fa fa-home icon-home\", \"home\"], [\"Back\", \"Back to previous view\", \"fa fa-arrow-left icon-arrow-left\", \"back\"], [\"Forward\", \"Forward to next view\", \"fa fa-arrow-right icon-arrow-right\", \"forward\"], [\"\", \"\", \"\", \"\"], [\"Pan\", \"Pan axes with left mouse, zoom with right\", \"fa fa-arrows icon-move\", \"pan\"], [\"Zoom\", \"Zoom to rectangle\", \"fa fa-square-o icon-check-empty\", \"zoom\"], [\"\", \"\", \"\", \"\"], [\"Download\", \"Download plot\", \"fa fa-floppy-o icon-save\", \"download\"]];\n",
       "\n",
       "mpl.extensions = [\"eps\", \"pdf\", \"png\", \"ps\", \"raw\", \"svg\"];\n",
       "\n",
       "mpl.default_extension = \"png\";var comm_websocket_adapter = function(comm) {\n",
       "    // Create a \"websocket\"-like object which calls the given IPython comm\n",
       "    // object with the appropriate methods. Currently this is a non binary\n",
       "    // socket, so there is still some room for performance tuning.\n",
       "    var ws = {};\n",
       "\n",
       "    ws.close = function() {\n",
       "        comm.close()\n",
       "    };\n",
       "    ws.send = function(m) {\n",
       "        //console.log('sending', m);\n",
       "        comm.send(m);\n",
       "    };\n",
       "    // Register the callback with on_msg.\n",
       "    comm.on_msg(function(msg) {\n",
       "        //console.log('receiving', msg['content']['data'], msg);\n",
       "        // Pass the mpl event to the overridden (by mpl) onmessage function.\n",
       "        ws.onmessage(msg['content']['data'])\n",
       "    });\n",
       "    return ws;\n",
       "}\n",
       "\n",
       "mpl.mpl_figure_comm = function(comm, msg) {\n",
       "    // This is the function which gets called when the mpl process\n",
       "    // starts-up an IPython Comm through the \"matplotlib\" channel.\n",
       "\n",
       "    var id = msg.content.data.id;\n",
       "    // Get hold of the div created by the display call when the Comm\n",
       "    // socket was opened in Python.\n",
       "    var element = $(\"#\" + id);\n",
       "    var ws_proxy = comm_websocket_adapter(comm)\n",
       "\n",
       "    function ondownload(figure, format) {\n",
       "        window.open(figure.imageObj.src);\n",
       "    }\n",
       "\n",
       "    var fig = new mpl.figure(id, ws_proxy,\n",
       "                           ondownload,\n",
       "                           element.get(0));\n",
       "\n",
       "    // Call onopen now - mpl needs it, as it is assuming we've passed it a real\n",
       "    // web socket which is closed, not our websocket->open comm proxy.\n",
       "    ws_proxy.onopen();\n",
       "\n",
       "    fig.parent_element = element.get(0);\n",
       "    fig.cell_info = mpl.find_output_cell(\"<div id='\" + id + \"'></div>\");\n",
       "    if (!fig.cell_info) {\n",
       "        console.error(\"Failed to find cell for figure\", id, fig);\n",
       "        return;\n",
       "    }\n",
       "\n",
       "    var output_index = fig.cell_info[2]\n",
       "    var cell = fig.cell_info[0];\n",
       "\n",
       "};\n",
       "\n",
       "mpl.figure.prototype.handle_close = function(fig, msg) {\n",
       "    var width = fig.canvas.width/mpl.ratio\n",
       "    fig.root.unbind('remove')\n",
       "\n",
       "    // Update the output cell to use the data from the current canvas.\n",
       "    fig.push_to_output();\n",
       "    var dataURL = fig.canvas.toDataURL();\n",
       "    // Re-enable the keyboard manager in IPython - without this line, in FF,\n",
       "    // the notebook keyboard shortcuts fail.\n",
       "    IPython.keyboard_manager.enable()\n",
       "    $(fig.parent_element).html('<img src=\"' + dataURL + '\" width=\"' + width + '\">');\n",
       "    fig.close_ws(fig, msg);\n",
       "}\n",
       "\n",
       "mpl.figure.prototype.close_ws = function(fig, msg){\n",
       "    fig.send_message('closing', msg);\n",
       "    // fig.ws.close()\n",
       "}\n",
       "\n",
       "mpl.figure.prototype.push_to_output = function(remove_interactive) {\n",
       "    // Turn the data on the canvas into data in the output cell.\n",
       "    var width = this.canvas.width/mpl.ratio\n",
       "    var dataURL = this.canvas.toDataURL();\n",
       "    this.cell_info[1]['text/html'] = '<img src=\"' + dataURL + '\" width=\"' + width + '\">';\n",
       "}\n",
       "\n",
       "mpl.figure.prototype.updated_canvas_event = function() {\n",
       "    // Tell IPython that the notebook contents must change.\n",
       "    IPython.notebook.set_dirty(true);\n",
       "    this.send_message(\"ack\", {});\n",
       "    var fig = this;\n",
       "    // Wait a second, then push the new image to the DOM so\n",
       "    // that it is saved nicely (might be nice to debounce this).\n",
       "    setTimeout(function () { fig.push_to_output() }, 1000);\n",
       "}\n",
       "\n",
       "mpl.figure.prototype._init_toolbar = function() {\n",
       "    var fig = this;\n",
       "\n",
       "    var nav_element = $('<div/>')\n",
       "    nav_element.attr('style', 'width: 100%');\n",
       "    this.root.append(nav_element);\n",
       "\n",
       "    // Define a callback function for later on.\n",
       "    function toolbar_event(event) {\n",
       "        return fig.toolbar_button_onclick(event['data']);\n",
       "    }\n",
       "    function toolbar_mouse_event(event) {\n",
       "        return fig.toolbar_button_onmouseover(event['data']);\n",
       "    }\n",
       "\n",
       "    for(var toolbar_ind in mpl.toolbar_items){\n",
       "        var name = mpl.toolbar_items[toolbar_ind][0];\n",
       "        var tooltip = mpl.toolbar_items[toolbar_ind][1];\n",
       "        var image = mpl.toolbar_items[toolbar_ind][2];\n",
       "        var method_name = mpl.toolbar_items[toolbar_ind][3];\n",
       "\n",
       "        if (!name) { continue; };\n",
       "\n",
       "        var button = $('<button class=\"btn btn-default\" href=\"#\" title=\"' + name + '\"><i class=\"fa ' + image + ' fa-lg\"></i></button>');\n",
       "        button.click(method_name, toolbar_event);\n",
       "        button.mouseover(tooltip, toolbar_mouse_event);\n",
       "        nav_element.append(button);\n",
       "    }\n",
       "\n",
       "    // Add the status bar.\n",
       "    var status_bar = $('<span class=\"mpl-message\" style=\"text-align:right; float: right;\"/>');\n",
       "    nav_element.append(status_bar);\n",
       "    this.message = status_bar[0];\n",
       "\n",
       "    // Add the close button to the window.\n",
       "    var buttongrp = $('<div class=\"btn-group inline pull-right\"></div>');\n",
       "    var button = $('<button class=\"btn btn-mini btn-primary\" href=\"#\" title=\"Stop Interaction\"><i class=\"fa fa-power-off icon-remove icon-large\"></i></button>');\n",
       "    button.click(function (evt) { fig.handle_close(fig, {}); } );\n",
       "    button.mouseover('Stop Interaction', toolbar_mouse_event);\n",
       "    buttongrp.append(button);\n",
       "    var titlebar = this.root.find($('.ui-dialog-titlebar'));\n",
       "    titlebar.prepend(buttongrp);\n",
       "}\n",
       "\n",
       "mpl.figure.prototype._root_extra_style = function(el){\n",
       "    var fig = this\n",
       "    el.on(\"remove\", function(){\n",
       "\tfig.close_ws(fig, {});\n",
       "    });\n",
       "}\n",
       "\n",
       "mpl.figure.prototype._canvas_extra_style = function(el){\n",
       "    // this is important to make the div 'focusable\n",
       "    el.attr('tabindex', 0)\n",
       "    // reach out to IPython and tell the keyboard manager to turn it's self\n",
       "    // off when our div gets focus\n",
       "\n",
       "    // location in version 3\n",
       "    if (IPython.notebook.keyboard_manager) {\n",
       "        IPython.notebook.keyboard_manager.register_events(el);\n",
       "    }\n",
       "    else {\n",
       "        // location in version 2\n",
       "        IPython.keyboard_manager.register_events(el);\n",
       "    }\n",
       "\n",
       "}\n",
       "\n",
       "mpl.figure.prototype._key_event_extra = function(event, name) {\n",
       "    var manager = IPython.notebook.keyboard_manager;\n",
       "    if (!manager)\n",
       "        manager = IPython.keyboard_manager;\n",
       "\n",
       "    // Check for shift+enter\n",
       "    if (event.shiftKey && event.which == 13) {\n",
       "        this.canvas_div.blur();\n",
       "        event.shiftKey = false;\n",
       "        // Send a \"J\" for go to next cell\n",
       "        event.which = 74;\n",
       "        event.keyCode = 74;\n",
       "        manager.command_mode();\n",
       "        manager.handle_keydown(event);\n",
       "    }\n",
       "}\n",
       "\n",
       "mpl.figure.prototype.handle_save = function(fig, msg) {\n",
       "    fig.ondownload(fig, null);\n",
       "}\n",
       "\n",
       "\n",
       "mpl.find_output_cell = function(html_output) {\n",
       "    // Return the cell and output element which can be found *uniquely* in the notebook.\n",
       "    // Note - this is a bit hacky, but it is done because the \"notebook_saving.Notebook\"\n",
       "    // IPython event is triggered only after the cells have been serialised, which for\n",
       "    // our purposes (turning an active figure into a static one), is too late.\n",
       "    var cells = IPython.notebook.get_cells();\n",
       "    var ncells = cells.length;\n",
       "    for (var i=0; i<ncells; i++) {\n",
       "        var cell = cells[i];\n",
       "        if (cell.cell_type === 'code'){\n",
       "            for (var j=0; j<cell.output_area.outputs.length; j++) {\n",
       "                var data = cell.output_area.outputs[j];\n",
       "                if (data.data) {\n",
       "                    // IPython >= 3 moved mimebundle to data attribute of output\n",
       "                    data = data.data;\n",
       "                }\n",
       "                if (data['text/html'] == html_output) {\n",
       "                    return [cell, data, j];\n",
       "                }\n",
       "            }\n",
       "        }\n",
       "    }\n",
       "}\n",
       "\n",
       "// Register the function which deals with the matplotlib target/channel.\n",
       "// The kernel may be null if the page has been refreshed.\n",
       "if (IPython.notebook.kernel != null) {\n",
       "    IPython.notebook.kernel.comm_manager.register_target('matplotlib', mpl.mpl_figure_comm);\n",
       "}\n"
      ],
      "text/plain": [
       "<IPython.core.display.Javascript object>"
      ]
     },
     "metadata": {},
     "output_type": "display_data"
    },
    {
     "data": {
      "text/html": [
       "<img src=\"data:image/png;base64,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\" width=\"999.2857313034489\">"
      ],
      "text/plain": [
       "<IPython.core.display.HTML object>"
      ]
     },
     "metadata": {},
     "output_type": "display_data"
    }
   ],
   "source": [
    "view(result)"
   ]
  },
  {
   "cell_type": "code",
   "execution_count": null,
   "metadata": {},
   "outputs": [],
   "source": []
  }
 ],
 "metadata": {
  "celltoolbar": "Slideshow",
  "kernelspec": {
   "display_name": "Python 3",
   "language": "python",
   "name": "python3"
  },
  "language_info": {
   "codemirror_mode": {
    "name": "ipython",
    "version": 3
   },
   "file_extension": ".py",
   "mimetype": "text/x-python",
   "name": "python",
   "nbconvert_exporter": "python",
   "pygments_lexer": "ipython3",
   "version": "3.6.4"
  }
 },
 "nbformat": 4,
 "nbformat_minor": 2
}
