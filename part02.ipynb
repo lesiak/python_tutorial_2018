{
 "cells": [
  {
   "cell_type": "markdown",
   "metadata": {
    "slideshow": {
     "slide_type": "slide"
    }
   },
   "source": [
    "# Efektywne programowanie w języku Python \n",
    "\n",
    "## wykład 2"
   ]
  },
  {
   "cell_type": "markdown",
   "metadata": {
    "slideshow": {
     "slide_type": "slide"
    }
   },
   "source": [
    "## Do you know that?"
   ]
  },
  {
   "cell_type": "markdown",
   "metadata": {
    "slideshow": {
     "slide_type": "subslide"
    }
   },
   "source": [
    "### Explicit line joining"
   ]
  },
  {
   "cell_type": "code",
   "execution_count": null,
   "metadata": {
    "slideshow": {
     "slide_type": "fragment"
    }
   },
   "outputs": [],
   "source": [
    "if 1900 < year < 2100 and 1 <= month <= 12 \\\n",
    "   and 1 <= day <= 31 and 0 <= hour < 24 \\\n",
    "   and 0 <= minute < 60 and 0 <= second < 60:   # Looks like a valid date\n",
    "        return 1"
   ]
  },
  {
   "cell_type": "markdown",
   "metadata": {
    "slideshow": {
     "slide_type": "fragment"
    }
   },
   "source": [
    "Two or more physical lines may be joined into logical lines using backslash characters (\\), as follows: when a physical line ends in a backslash that is not part of a string literal or comment, it is joined with the following forming a single logical line, deleting the backslash and the following end-of-line character."
   ]
  },
  {
   "cell_type": "markdown",
   "metadata": {
    "slideshow": {
     "slide_type": "subslide"
    }
   },
   "source": [
    "###  String literal concatenation"
   ]
  },
  {
   "cell_type": "code",
   "execution_count": null,
   "metadata": {
    "slideshow": {
     "slide_type": "fragment"
    }
   },
   "outputs": [],
   "source": [
    "re.compile(\"[A-Za-z_]\"       # letter or underscore\n",
    "           \"[A-Za-z0-9_]*\"   # letter, digit or underscore\n",
    "          )"
   ]
  },
  {
   "cell_type": "markdown",
   "metadata": {
    "slideshow": {
     "slide_type": "fragment"
    }
   },
   "source": [
    "Multiple adjacent string or bytes literals (delimited by whitespace), possibly using different quoting conventions, are allowed, and their meaning is the same as their concatenation. Thus, \"hello\" 'world' is equivalent to \"helloworld\"."
   ]
  },
  {
   "cell_type": "markdown",
   "metadata": {
    "slideshow": {
     "slide_type": "fragment"
    }
   },
   "source": [
    "Note that this feature is defined at the syntactical level, but implemented at compile time. The ‘+’ operator must be used to concatenate string expressions at run time."
   ]
  },
  {
   "cell_type": "markdown",
   "metadata": {
    "slideshow": {
     "slide_type": "subslide"
    }
   },
   "source": [
    "### We can use semicolons!!!"
   ]
  },
  {
   "cell_type": "code",
   "execution_count": null,
   "metadata": {
    "slideshow": {
     "slide_type": "fragment"
    }
   },
   "outputs": [],
   "source": [
    "x, y, z = 3, 1, 2"
   ]
  },
  {
   "cell_type": "code",
   "execution_count": null,
   "metadata": {
    "slideshow": {
     "slide_type": "fragment"
    }
   },
   "outputs": [],
   "source": [
    "if x < y < z: print(x); print(y); print(z)"
   ]
  },
  {
   "cell_type": "markdown",
   "metadata": {
    "slideshow": {
     "slide_type": "slide"
    }
   },
   "source": [
    "## What is truth?"
   ]
  },
  {
   "cell_type": "code",
   "execution_count": null,
   "metadata": {
    "slideshow": {
     "slide_type": "fragment"
    }
   },
   "outputs": [],
   "source": [
    "# 'Falsy'\n",
    "bool(None)\n",
    "bool(False)\n",
    "bool(0)\n",
    "bool(0.0)\n",
    "bool('')"
   ]
  },
  {
   "cell_type": "code",
   "execution_count": null,
   "metadata": {
    "slideshow": {
     "slide_type": "subslide"
    }
   },
   "outputs": [],
   "source": [
    "# Empty data structures are 'falsy'\n",
    "bool([]) # => False"
   ]
  },
  {
   "cell_type": "code",
   "execution_count": null,
   "metadata": {
    "slideshow": {
     "slide_type": "fragment"
    }
   },
   "outputs": [],
   "source": [
    "# How should we check for an empty list?\n",
    "data = []\n",
    "if data:\n",
    "    process(data):\n",
    "else:\n",
    "    print(\"There's no data!\")"
   ]
  },
  {
   "cell_type": "markdown",
   "metadata": {
    "slideshow": {
     "slide_type": "fragment"
    }
   },
   "source": [
    "> goto opt02 :) part 1"
   ]
  },
  {
   "cell_type": "code",
   "execution_count": null,
   "metadata": {
    "slideshow": {
     "slide_type": "subslide"
    }
   },
   "outputs": [],
   "source": [
    "#You should not use \n",
    "if expr == True:\n",
    "    pass\n",
    "\n",
    "# or\n",
    "if len(data) == 0:\n",
    "    pass"
   ]
  },
  {
   "cell_type": "markdown",
   "metadata": {
    "slideshow": {
     "slide_type": "slide"
    }
   },
   "source": [
    "## Range"
   ]
  },
  {
   "cell_type": "code",
   "execution_count": null,
   "metadata": {
    "slideshow": {
     "slide_type": "fragment"
    }
   },
   "outputs": [],
   "source": [
    "range(3)\n",
    "# generates 0, 1, 2\n",
    "\n",
    "range(5, 10)\n",
    "# generates 5, 6, 7, 8, 9\n",
    "\n",
    "range(2, 12, 3)\n",
    "# generates 2, 5, 8, 11\n",
    "\n",
    "range(-7, -30, -5)\n",
    "# generates -7, -12, -17, -22, -27"
   ]
  },
  {
   "cell_type": "code",
   "execution_count": null,
   "metadata": {
    "slideshow": {
     "slide_type": "subslide"
    }
   },
   "outputs": [],
   "source": [
    "v = range(10)\n",
    "print(type(v))\n",
    "print(v)"
   ]
  },
  {
   "cell_type": "markdown",
   "metadata": {
    "slideshow": {
     "slide_type": "fragment"
    }
   },
   "source": [
    "co tutaj dostaniemy?"
   ]
  },
  {
   "cell_type": "code",
   "execution_count": null,
   "metadata": {
    "slideshow": {
     "slide_type": "fragment"
    }
   },
   "outputs": [],
   "source": [
    "help(range)"
   ]
  },
  {
   "cell_type": "markdown",
   "metadata": {
    "collapsed": true,
    "slideshow": {
     "slide_type": "slide"
    }
   },
   "source": [
    "## Data structures"
   ]
  },
  {
   "cell_type": "markdown",
   "metadata": {
    "slideshow": {
     "slide_type": "slide"
    }
   },
   "source": [
    "### 1. Lists"
   ]
  },
  {
   "cell_type": "markdown",
   "metadata": {
    "slideshow": {
     "slide_type": "fragment"
    }
   },
   "source": [
    "> Finite, ordered, mutable sequence of elements"
   ]
  },
  {
   "cell_type": "code",
   "execution_count": null,
   "metadata": {
    "slideshow": {
     "slide_type": "fragment"
    }
   },
   "outputs": [],
   "source": [
    "simple_list = [1, 2, 3]"
   ]
  },
  {
   "cell_type": "code",
   "execution_count": null,
   "metadata": {
    "slideshow": {
     "slide_type": "subslide"
    }
   },
   "outputs": [],
   "source": [
    "# Create a new list\n",
    "empty = []\n",
    "letters = ['a', 'b', 'c', 'd']\n",
    "numbers = [2, 3, 5]"
   ]
  },
  {
   "cell_type": "code",
   "execution_count": null,
   "metadata": {
    "slideshow": {
     "slide_type": "fragment"
    }
   },
   "outputs": [],
   "source": [
    "# Lists can contain elements of different types\n",
    "mixed = [4, 5, \"seconds\"]"
   ]
  },
  {
   "cell_type": "code",
   "execution_count": null,
   "metadata": {
    "slideshow": {
     "slide_type": "fragment"
    }
   },
   "outputs": [],
   "source": [
    "# Append elements to the end of a list\n",
    "numbers.append(7) # numbers == [2, 3, 5, 7]\n",
    "numbers.append(11) # numbers == [2, 3, 5, 7, 11]"
   ]
  },
  {
   "cell_type": "code",
   "execution_count": null,
   "metadata": {
    "slideshow": {
     "slide_type": "fragment"
    }
   },
   "outputs": [],
   "source": [
    "# Access elements at a particular index\n",
    "numbers[0] # => 2\n",
    "numbers[-1] # => 11"
   ]
  },
  {
   "cell_type": "code",
   "execution_count": null,
   "metadata": {
    "slideshow": {
     "slide_type": "fragment"
    }
   },
   "outputs": [],
   "source": [
    "# You can also slice lists - the usual rules apply\n",
    "letters[:3] # => ['a', 'b', 'c']\n",
    "numbers[1:-1] # => [3, 5, 7]"
   ]
  },
  {
   "cell_type": "code",
   "execution_count": null,
   "metadata": {
    "slideshow": {
     "slide_type": "subslide"
    }
   },
   "outputs": [],
   "source": [
    "# Nested lists\n",
    "#\n",
    "# Lists really can contain anything - even other lists!\n",
    "x = [letters, numbers]\n",
    "x # => [['a', 'b', 'c', 'd'], [2, 3, 5, 7, 11]]\n",
    "x[0] # => ['a', 'b', 'c', 'd']\n",
    "x[0][1] # => 'b'\n",
    "x[1][2:] # => [5, 7, 11]"
   ]
  },
  {
   "cell_type": "markdown",
   "metadata": {
    "slideshow": {
     "slide_type": "subslide"
    }
   },
   "source": [
    "Methods reference"
   ]
  },
  {
   "cell_type": "code",
   "execution_count": null,
   "metadata": {
    "slideshow": {
     "slide_type": "subslide"
    }
   },
   "outputs": [],
   "source": [
    "# Extend list by appending elements from the iterable\n",
    "my_list.extend(iterable)\n",
    "# Insert object before index\n",
    "my_list.insert(index, object)\n",
    "# Remove first occurrence of value, or raise ValueError\n",
    "my_list.remove(value)\n",
    "# Remove all items\n",
    "my_list.clear()"
   ]
  },
  {
   "cell_type": "code",
   "execution_count": null,
   "metadata": {
    "slideshow": {
     "slide_type": "subslide"
    }
   },
   "outputs": [],
   "source": [
    "# Return number of occurrences of value\n",
    "my_list.count(value)\n",
    "# Return first index of value, or raise ValueError\n",
    "my_list.index(value, [start, [stop]])\n",
    "# Remove, return item at index (def. last) or IndexError\n",
    "my_list.pop([index])\n",
    "# Stable sort *in place*\n",
    "my_list.sort(key=None, reverse=False)\n",
    "# Reverse *in place*.\n",
    "my_list.reverse()"
   ]
  },
  {
   "cell_type": "code",
   "execution_count": null,
   "metadata": {
    "slideshow": {
     "slide_type": "subslide"
    }
   },
   "outputs": [],
   "source": [
    "# Length (len)\n",
    "len([]) # => 0\n",
    "len(\"python\") # => 6\n",
    "len([4,5,\"seconds\"]) # => 3"
   ]
  },
  {
   "cell_type": "code",
   "execution_count": null,
   "metadata": {
    "slideshow": {
     "slide_type": "fragment"
    }
   },
   "outputs": [],
   "source": [
    "# Membership (in)\n",
    "0 in [] # => False\n",
    "'y' in 'python' # => True\n",
    "'minutes' in [4, 5, 'seconds'] # => False"
   ]
  },
  {
   "cell_type": "markdown",
   "metadata": {
    "slideshow": {
     "slide_type": "slide"
    }
   },
   "source": [
    "### 2. Dictionary"
   ]
  },
  {
   "cell_type": "markdown",
   "metadata": {
    "slideshow": {
     "slide_type": "fragment"
    }
   },
   "source": [
    "> Mutable map from hashable values to arbitrary objects"
   ]
  },
  {
   "cell_type": "markdown",
   "metadata": {
    "slideshow": {
     "slide_type": "fragment"
    }
   },
   "source": [
    "Keys can be a variety of types, as long as they are hashable. Values can be a variety of types too."
   ]
  },
  {
   "cell_type": "code",
   "execution_count": null,
   "metadata": {
    "slideshow": {
     "slide_type": "subslide"
    }
   },
   "outputs": [],
   "source": [
    "empty = {}\n",
    "type(empty) # => dict\n",
    "empty == dict() # => True"
   ]
  },
  {
   "cell_type": "code",
   "execution_count": null,
   "metadata": {
    "slideshow": {
     "slide_type": "fragment"
    }
   },
   "outputs": [],
   "source": [
    "a = dict(one=1, two=2, three=3)\n",
    "b = {\"one\": 1, \"two\": 2, \"three\": 3}\n",
    "a == b # => True"
   ]
  },
  {
   "cell_type": "code",
   "execution_count": null,
   "metadata": {
    "slideshow": {
     "slide_type": "subslide"
    }
   },
   "outputs": [],
   "source": [
    "b = {\"one\": 1, \"two\": 2, \"three\": 3}\n",
    "\n",
    "# Get\n",
    "d['one'] # => 1\n",
    "d['five'] # raises KeyError\n",
    "\n",
    "# Set\n",
    "d['two'] = 22 # Modify an existing key\n",
    "d['four'] = 4 # Add a new key"
   ]
  },
  {
   "cell_type": "code",
   "execution_count": null,
   "metadata": {
    "slideshow": {
     "slide_type": "subslide"
    }
   },
   "outputs": [],
   "source": [
    "d = {\"CS\":[106, 107, 110], \"MATH\": [51, 113]}\n",
    "\n",
    "d[\"COMPSCI\"] # raises KeyError\n",
    "\n",
    "# Use get() method to avoid the KeyError\n",
    "d.get(\"CS\") # => [106, 107, 110]\n",
    "d.get(\"PHIL\") # => None (not a KeyError!)\n",
    "\n",
    "english_classes = d.get(\"ENGLISH\", [])\n",
    "num_english = len(english_classes)"
   ]
  },
  {
   "cell_type": "code",
   "execution_count": null,
   "metadata": {
    "slideshow": {
     "slide_type": "subslide"
    }
   },
   "outputs": [],
   "source": [
    "d = {\"one\": 1, \"two\": 2, \"three\": 3}\n",
    "\n",
    "#Raises KeyError if invalid key\n",
    "del d[\"one\"]\n",
    "\n",
    "#Remove and return d['three'] or default value if not in the map\n",
    "d.pop(\"three\", default) # => 3\n",
    "\n",
    "# Remove and return an arbitrary (key, value) pair. Useful for destructive iteration\n",
    "d.popitem() # => (\"two\", 2)"
   ]
  },
  {
   "cell_type": "code",
   "execution_count": null,
   "metadata": {
    "slideshow": {
     "slide_type": "subslide"
    }
   },
   "outputs": [],
   "source": [
    "d = {\"one\": 1, \"two\": 2, \"three\": 3}\n",
    "\n",
    "# These dictionary views are dynamic, reflecting changes in the underlying dictionary!\n",
    "d.keys()\n",
    "d.values()\n",
    "d.items()\n",
    "\n",
    "('one', 1) in d.items()"
   ]
  },
  {
   "cell_type": "code",
   "execution_count": null,
   "metadata": {
    "slideshow": {
     "slide_type": "subslide"
    }
   },
   "outputs": [],
   "source": [
    "len(d)\n",
    "\n",
    "key in d # equiv. to `key in d.keys()`\n",
    "\n",
    "value in d.values()\n",
    "\n",
    "d.copy()\n",
    "d.clear()\n",
    "\n",
    "for key in d: # equiv. to `for key in d.keys():`\n",
    "    print(key)"
   ]
  },
  {
   "cell_type": "markdown",
   "metadata": {
    "collapsed": true,
    "slideshow": {
     "slide_type": "slide"
    }
   },
   "source": [
    "### 3. Tuples"
   ]
  },
  {
   "cell_type": "markdown",
   "metadata": {
    "slideshow": {
     "slide_type": "fragment"
    }
   },
   "source": [
    "> Immutable Sequences\n",
    ">\n",
    "> To:\n",
    "> 1. Store collections of heterogeneous data\n",
    "> 2. \"Freeze\" sequence to ensure hashability\n",
    "> 3. Enforce immutability for fixed-size collections"
   ]
  },
  {
   "cell_type": "code",
   "execution_count": null,
   "metadata": {
    "slideshow": {
     "slide_type": "subslide"
    }
   },
   "outputs": [],
   "source": [
    "fish = (1, 2, \"red\", \"blue\")\n",
    "fish[0] # => 1\n",
    "fish[0] = 7 # Raises a TypeError"
   ]
  },
  {
   "cell_type": "code",
   "execution_count": null,
   "metadata": {
    "slideshow": {
     "slide_type": "fragment"
    }
   },
   "outputs": [],
   "source": [
    "len(fish) # => 4\n",
    "fish[:2] # => (1, 2)\n",
    "\"red\" in fish # => True"
   ]
  },
  {
   "cell_type": "markdown",
   "metadata": {
    "slideshow": {
     "slide_type": "subslide"
    }
   },
   "source": [
    "#### Argument Packing and Unpacking"
   ]
  },
  {
   "cell_type": "code",
   "execution_count": null,
   "metadata": {
    "slideshow": {
     "slide_type": "fragment"
    }
   },
   "outputs": [],
   "source": [
    "# Comma-separated Rvalues are converted to a tuple\n",
    "t = 12345, 54321, 'hello!'\n",
    "print(t) # (12345, 54321, 'hello!')\n",
    "type(t) # => tuple"
   ]
  },
  {
   "cell_type": "code",
   "execution_count": null,
   "metadata": {
    "slideshow": {
     "slide_type": "fragment"
    }
   },
   "outputs": [],
   "source": [
    "# Comma-separated Lvalues are unpacked automatically\n",
    "x, y, z = t\n",
    "x # => 12345\n",
    "y # => 54321\n",
    "z # => 'hello!'"
   ]
  },
  {
   "cell_type": "code",
   "execution_count": null,
   "metadata": {
    "slideshow": {
     "slide_type": "subslide"
    }
   },
   "outputs": [],
   "source": [
    "for index, color in enumerate(['red','green','blue']):\n",
    "    print(index, color)\n",
    "    \n",
    "# =>\n",
    "# 0 red\n",
    "# 1 green\n",
    "# 2 blue\n",
    "\n",
    "# SOOOOoooooo:\n",
    "#This also means you should almost never use\n",
    "for i in range(len(sequence)):\n",
    "    pass"
   ]
  },
  {
   "cell_type": "markdown",
   "metadata": {
    "slideshow": {
     "slide_type": "subslide"
    }
   },
   "source": [
    "> Tuples contain (immutable) references to underlying objects!"
   ]
  },
  {
   "cell_type": "code",
   "execution_count": null,
   "metadata": {
    "slideshow": {
     "slide_type": "fragment"
    }
   },
   "outputs": [],
   "source": [
    "v = ([1, 2, 3], ['a', 'b', 'c'])\n",
    "v[0].append(4)\n",
    "v # => ([1, 2, 3, 4], ['a', 'b', 'c'])"
   ]
  },
  {
   "cell_type": "markdown",
   "metadata": {
    "slideshow": {
     "slide_type": "subslide"
    }
   },
   "source": [
    "A special problem is the construction of tuples containing 0 or 1 items: the syntax has some extra quirks to accommodate these. Empty tuples are constructed by an empty pair of parentheses; a tuple with one item is constructed by following a value with a comma (it is not sufficient to enclose a single value in parentheses). Ugly, but effective. For example:"
   ]
  },
  {
   "cell_type": "code",
   "execution_count": null,
   "metadata": {},
   "outputs": [],
   "source": [
    "r = (\"ww\",)\n",
    "print(r, len(r))"
   ]
  },
  {
   "cell_type": "code",
   "execution_count": null,
   "metadata": {
    "slideshow": {
     "slide_type": "fragment"
    }
   },
   "outputs": [],
   "source": [
    ">>> empty = ()\n",
    ">>> singleton = 'hello',    # <-- note trailing comma\n",
    ">>> len(empty)\n",
    "0\n",
    ">>> len(singleton)\n",
    "1\n",
    ">>> singleton\n",
    "('hello',)"
   ]
  },
  {
   "cell_type": "markdown",
   "metadata": {
    "slideshow": {
     "slide_type": "slide"
    }
   },
   "source": [
    "### 4. Sets"
   ]
  },
  {
   "cell_type": "markdown",
   "metadata": {
    "slideshow": {
     "slide_type": "fragment"
    }
   },
   "source": [
    "> Unordered collection of distinct hashable elements\n",
    ">\n",
    "> To:\n",
    "> 1. Fast membership testing: O(1) vs. O(n)\n",
    "> 2. Eliminate duplicate entries\n",
    "> 3. Easy set operations (intersection, union, etc.)"
   ]
  },
  {
   "cell_type": "code",
   "execution_count": null,
   "metadata": {
    "slideshow": {
     "slide_type": "fragment"
    }
   },
   "outputs": [],
   "source": [
    "s = {1, 2, 3}"
   ]
  },
  {
   "cell_type": "code",
   "execution_count": null,
   "metadata": {
    "slideshow": {
     "slide_type": "subslide"
    }
   },
   "outputs": [],
   "source": [
    "empty_set = set()\n",
    "set_from_list = set([1, 2, 1, 4, 3]) # => {1, 3, 4, 2}\n",
    "\n",
    "basket = {\"apple\", \"orange\", \"apple\", \"pear\", \"banana\"}\n",
    "len(basket) # => 4\n",
    "\n",
    "\"orange\" in basket # => True\n",
    "\"crabgrass\" in basket # => False\n",
    "\n",
    "for fruit in basket:\n",
    "    print(fruit, end='/')\n",
    "# => pear/banana/apple/orange/"
   ]
  },
  {
   "cell_type": "code",
   "execution_count": null,
   "metadata": {
    "slideshow": {
     "slide_type": "subslide"
    }
   },
   "outputs": [],
   "source": [
    "a = set(\"mississippi\") # {'i', 'm', 'p', 's'}\n",
    "\n",
    "a.add('r')\n",
    "a.remove('m') # raises KeyError if 'm' is not present\n",
    "a.discard('x') # same as remove, except no error\n",
    "\n",
    "a.pop() # => 's' (or 'i' or 'p')\n",
    "\n",
    "a.clear()\n",
    "\n",
    "len(a) # => 0"
   ]
  },
  {
   "cell_type": "code",
   "execution_count": null,
   "metadata": {
    "slideshow": {
     "slide_type": "subslide"
    }
   },
   "outputs": [],
   "source": [
    "a = set(\"abracadabra\") # {'a', 'r', 'b', 'c', 'd'}\n",
    "b = set(\"alacazam\") # {'a', 'm', 'c', 'l', 'z'}\n",
    "\n",
    "# Set difference\n",
    "a - b # => {'r', 'd', 'b'}\n",
    "\n",
    "# Union\n",
    "a | b # => {'a', 'c', 'r', 'd', 'b', 'm', 'z', 'l'}\n",
    "\n",
    "# Intersection\n",
    "a & b # => {'a', 'c'}\n",
    "\n",
    "# Symmetric Difference\n",
    "a ^ b # => {'r', 'd', 'b', 'm', 'z', 'l'}"
   ]
  },
  {
   "cell_type": "markdown",
   "metadata": {
    "slideshow": {
     "slide_type": "subslide"
    }
   },
   "source": [
    "> goto opt02 :) part 2"
   ]
  },
  {
   "cell_type": "markdown",
   "metadata": {
    "slideshow": {
     "slide_type": "slide"
    }
   },
   "source": [
    "### Loops"
   ]
  },
  {
   "cell_type": "markdown",
   "metadata": {
    "slideshow": {
     "slide_type": "subslide"
    }
   },
   "source": [
    "#### Items in Dictionary"
   ]
  },
  {
   "cell_type": "code",
   "execution_count": null,
   "metadata": {
    "slideshow": {
     "slide_type": "fragment"
    }
   },
   "outputs": [],
   "source": [
    "knights = {'gallahad': 'the pure', 'robin': 'the brave'}\n",
    "\n",
    "for k, v in knights.items():\n",
    "    print(k, v)\n",
    "\n",
    "# =>\n",
    "# gallahad the pure\n",
    "# robin the brave"
   ]
  },
  {
   "cell_type": "markdown",
   "metadata": {
    "slideshow": {
     "slide_type": "subslide"
    }
   },
   "source": [
    "#### zip"
   ]
  },
  {
   "cell_type": "code",
   "execution_count": null,
   "metadata": {
    "slideshow": {
     "slide_type": "fragment"
    }
   },
   "outputs": [],
   "source": [
    "questions = ['name', 'quest', 'favorite color', 'BAD']\n",
    "answers = ['Lancelot', 'To seek the holy grail', 'Blue']\n",
    "\n",
    "for q, a in zip(questions, answers):\n",
    "    print('What is your {0}? {1}.'.format(q, a))\n",
    "\n",
    "# =>\n",
    "# What is your name? Lancelot.\n",
    "# What is your quest? To seek the holy grail.\n",
    "# What is your favorite color? Blue."
   ]
  },
  {
   "cell_type": "markdown",
   "metadata": {
    "slideshow": {
     "slide_type": "fragment"
    }
   },
   "source": [
    "The zip() function generates pairs of entries from its arguments."
   ]
  },
  {
   "cell_type": "code",
   "execution_count": null,
   "metadata": {},
   "outputs": [],
   "source": [
    "# Unzip lists \n",
    "l1,l2 = zip(*[('Aston', 'GPS'),  \n",
    "              ('Audi', 'Car Repair'),  \n",
    "              ('McLaren', 'Dolby sound kit')  \n",
    "           ]) \n",
    "  \n",
    "# Printing unzipped lists       \n",
    "print(l1) \n",
    "print(l2) "
   ]
  },
  {
   "cell_type": "markdown",
   "metadata": {
    "slideshow": {
     "slide_type": "subslide"
    }
   },
   "source": [
    "#### Reverse Iteration"
   ]
  },
  {
   "cell_type": "code",
   "execution_count": null,
   "metadata": {
    "slideshow": {
     "slide_type": "fragment"
    }
   },
   "outputs": [],
   "source": [
    "for i in reversed(range(1, 10, 2)):\n",
    "    print(i, end=', ')\n",
    "# =>\n",
    "# 9, 7, 5, 3, 1,"
   ]
  },
  {
   "cell_type": "markdown",
   "metadata": {
    "slideshow": {
     "slide_type": "subslide"
    }
   },
   "source": [
    "#### Sorted Iteration"
   ]
  },
  {
   "cell_type": "code",
   "execution_count": null,
   "metadata": {
    "slideshow": {
     "slide_type": "fragment"
    }
   },
   "outputs": [],
   "source": [
    "basket = ['pear', 'banana', 'orange', 'pear', 'apple']\n",
    "\n",
    "for fruit in sorted(basket):\n",
    "    print(fruit)\n",
    "\n",
    "# =>\n",
    "# apple\n",
    "# banana\n",
    "# orange\n",
    "# pear\n",
    "# pear"
   ]
  },
  {
   "cell_type": "markdown",
   "metadata": {
    "slideshow": {
     "slide_type": "fragment"
    }
   },
   "source": [
    "To loop over a sequence in sorted order, use the sorted() function which returns a new sorted list while leaving the source unaltered."
   ]
  },
  {
   "cell_type": "markdown",
   "metadata": {
    "slideshow": {
     "slide_type": "slide"
    }
   },
   "source": [
    "### Comprehensions"
   ]
  },
  {
   "cell_type": "markdown",
   "metadata": {
    "slideshow": {
     "slide_type": "subslide"
    }
   },
   "source": [
    "**List comprehensions** provide a concise way to create lists. Common applications are to make new lists where each element is the result of some operations applied to each member of another sequence or iterable, or to create a subsequence of those elements that satisfy a certain condition."
   ]
  },
  {
   "cell_type": "code",
   "execution_count": null,
   "metadata": {
    "slideshow": {
     "slide_type": "fragment"
    }
   },
   "outputs": [],
   "source": [
    "squares = []\n",
    "for x in range(10):\n",
    "    squares.append(x**2)\n",
    "\n",
    "squares"
   ]
  },
  {
   "cell_type": "code",
   "execution_count": null,
   "metadata": {
    "slideshow": {
     "slide_type": "fragment"
    }
   },
   "outputs": [],
   "source": [
    "squares = [x**2 for x in range(10)]"
   ]
  },
  {
   "cell_type": "code",
   "execution_count": null,
   "metadata": {
    "slideshow": {
     "slide_type": "fragment"
    }
   },
   "outputs": [],
   "source": [
    "[f(xs) for xs in iter]\n",
    "# Loop over the specified iterable and apply some operation to generate new list elements"
   ]
  },
  {
   "cell_type": "code",
   "execution_count": null,
   "metadata": {
    "slideshow": {
     "slide_type": "fragment"
    }
   },
   "outputs": [],
   "source": [
    "[f(xs) for xs in iter if pred(xs)]\n",
    "# Only keep elements that satisfy a predicate condition"
   ]
  },
  {
   "cell_type": "code",
   "execution_count": null,
   "metadata": {
    "slideshow": {
     "slide_type": "subslide"
    }
   },
   "outputs": [],
   "source": [
    "[word.lower() for word in sentence]\n",
    "\n",
    "[word for word in sentence if len(word) > 8]\n",
    "\n",
    "[(x, x ** 2, x ** 3) for x in range(10)]\n",
    "\n",
    "[(i,j) for i in range(5) for j in range(i)]"
   ]
  },
  {
   "cell_type": "code",
   "execution_count": null,
   "metadata": {
    "slideshow": {
     "slide_type": "subslide"
    }
   },
   "outputs": [],
   "source": [
    "[(i,j) for i in range(5) for j in range(i)]"
   ]
  },
  {
   "cell_type": "code",
   "execution_count": null,
   "metadata": {
    "slideshow": {
     "slide_type": "subslide"
    }
   },
   "outputs": [],
   "source": [
    "[(x, y) for x in [1,2,3] for y in [3,1,4] if x != y]"
   ]
  },
  {
   "cell_type": "markdown",
   "metadata": {
    "slideshow": {
     "slide_type": "fragment"
    }
   },
   "source": [
    "it’s equivalent to"
   ]
  },
  {
   "cell_type": "code",
   "execution_count": null,
   "metadata": {
    "slideshow": {
     "slide_type": "fragment"
    }
   },
   "outputs": [],
   "source": [
    "combs = []\n",
    "for x in [1,2,3]:\n",
    "    for y in [3,1,4]:\n",
    "        if x != y:\n",
    "            combs.append((x, y))\n",
    "combs"
   ]
  },
  {
   "cell_type": "code",
   "execution_count": null,
   "metadata": {
    "slideshow": {
     "slide_type": "subslide"
    }
   },
   "outputs": [],
   "source": [
    "# Dictionary Comprehensions\n",
    "{key_func(vars):val_func(vars) for vars in iterable}\n",
    "{v:k for k, v in d.items()}"
   ]
  },
  {
   "cell_type": "code",
   "execution_count": null,
   "metadata": {
    "slideshow": {
     "slide_type": "fragment"
    }
   },
   "outputs": [],
   "source": [
    "# Set Comprehensions\n",
    "{func(vars) for vars in iterable}\n",
    "{word for word in hamlet if is_palindrome(word.lower())}"
   ]
  },
  {
   "cell_type": "code",
   "execution_count": null,
   "metadata": {
    "slideshow": {
     "slide_type": "subslide"
    }
   },
   "outputs": [],
   "source": [
    "(1, 2, 3)              < (1, 2, 4)                    # True\n",
    "[1, 2, 3]              < [1, 2, 4]\n",
    "'ABC' < 'C' < 'Pascal' < 'Python'\n",
    "(1, 2, 3, 4)           < (1, 2, 4)\n",
    "(1, 2)                 < (1, 2, -1)\n",
    "(1, 2, 3)             == (1.0, 2.0, 3.0)\n",
    "(1, 2, ('aa', 'ab'))   < (1, 2, ('abc', 'a'), 4)"
   ]
  },
  {
   "cell_type": "markdown",
   "metadata": {
    "slideshow": {
     "slide_type": "fragment"
    }
   },
   "source": [
    "Sequence objects may be compared to other objects with the same sequence type. The comparison uses lexicographical ordering: first the first two items are compared, and if they differ this determines the outcome of the comparison; if not, the next two items are compared, and so on..."
   ]
  },
  {
   "cell_type": "markdown",
   "metadata": {
    "slideshow": {
     "slide_type": "slide"
    }
   },
   "source": [
    "## Time complexity???"
   ]
  },
  {
   "cell_type": "markdown",
   "metadata": {
    "slideshow": {
     "slide_type": "fragment"
    }
   },
   "source": [
    "[https://wiki.python.org/moin/TimeComplexity](https://wiki.python.org/moin/TimeComplexity)"
   ]
  },
  {
   "cell_type": "markdown",
   "metadata": {
    "slideshow": {
     "slide_type": "slide"
    }
   },
   "source": [
    "Source\n",
    "1. [http://treyhunner.com/2015/12/python-list-comprehensions-now-in-color/](http://treyhunner.com/2015/12/python-list-comprehensions-now-in-color/)\n"
   ]
  },
  {
   "cell_type": "markdown",
   "metadata": {
    "slideshow": {
     "slide_type": "slide"
    }
   },
   "source": [
    "## Is it really fast??"
   ]
  },
  {
   "cell_type": "code",
   "execution_count": 60,
   "metadata": {
    "slideshow": {
     "slide_type": "subslide"
    }
   },
   "outputs": [],
   "source": [
    "# https://codereview.stackexchange.com/questions/23441/are-these-list-comprehensions-written-the-fastest-possible-way\n",
    "import sys\n",
    "from datetime import datetime, timedelta\n",
    "import numpy\n",
    "from tqdm import tqdm\n",
    "import matplotlib.pyplot as pyplot\n",
    "pyplot.rcParams['figure.figsize'] = [10, 5]\n",
    "%matplotlib notebook\n",
    "\n",
    "def doingnothing(n):\n",
    "    for i in range(n):\n",
    "        pass\n",
    "    return []\n",
    "\n",
    "def numpysum(n): #NPY\n",
    "    a = numpy.arange(n) ** 2.\n",
    "    b = numpy.arange(n) ** 3.\n",
    "    c = a + b\n",
    "    return c\n",
    "\n",
    "def listexpression(n):  #LE\n",
    "    #return [x**2+x**3 for x in range(n)]\n",
    "    return [x*x+x*x*x for x in range(n)]\n",
    "\n",
    "def dictcomprehension(n):  #DC\n",
    "    # a = {x:x**2+x**3 for x in range(n)}\n",
    "    a = {x:x*x+x*x*x for x in range(n)}\n",
    "    # return [a[key] for key in a]\n",
    "    return list(a.values())\n",
    "\n",
    "def pythonsum(n): #PS\n",
    "    a = list(range(n))\n",
    "    b = list(range(n))\n",
    "    c = []\n",
    "\n",
    "    for i in range(len(a)):\n",
    "            # a[i] = i ** 2.\n",
    "            a[i] = i * i \n",
    "            # b[i] = i ** 3.\n",
    "            b[i] = i * i * i\n",
    "            c.append(a[i] + b[i])\n",
    "    return c\n",
    "\n",
    "def runtimetest(size,verbose=True,it=5):\n",
    "    v = verbose\n",
    "    d = {'DoingNothing':None,\n",
    "         'NPY':None,\n",
    "         'LE':None,\n",
    "         'DC':None,\n",
    "         'PS':None}\n",
    "\n",
    "    val = []\n",
    "    for i in range(it):\n",
    "        start = datetime.now()\n",
    "        c = doingnothing(size)\n",
    "        val.append(datetime.now() - start)\n",
    "    d['DoingNothing'] = sum(val, timedelta(0)) / len(val)\n",
    "\n",
    "    val = []\n",
    "    for i in range(it):\n",
    "        start = datetime.now()\n",
    "        c = numpysum(size)\n",
    "        val.append(datetime.now() - start)\n",
    "    d['NPY'] = sum(val, timedelta(0)) / len(val)\n",
    "\n",
    "    val = []\n",
    "    for i in range(it):\n",
    "        start = datetime.now()\n",
    "        c = listexpression(size)\n",
    "        val.append(datetime.now() - start)\n",
    "    d['LE'] = sum(val, timedelta(0)) / len(val)\n",
    "\n",
    "    val = []\n",
    "    for i in range(it):\n",
    "        start = datetime.now()\n",
    "        c = dictcomprehension(size)\n",
    "        val.append(datetime.now() - start)\n",
    "    d['DC'] = sum(val, timedelta(0)) / len(val)\n",
    "    \n",
    "    val = []\n",
    "    for i in range(it):\n",
    "        start = datetime.now()\n",
    "        c = pythonsum(size)\n",
    "        val.append(datetime.now() - start)\n",
    "    d['PS'] = sum(val, timedelta(0)) / len(val)\n",
    "        \n",
    "    return d\n",
    "\n",
    "def view(results):\n",
    "    \"\"\"\n",
    "    result['header']=['DoingNothing','NPY','LE','DC','PS']\n",
    "    result[3000]=[0.0, 0.0, 0.002, 0.003, 0.003001] \n",
    "    \"\"\"\n",
    "    if 'header' in results.keys():\n",
    "        results.pop('header')\n",
    "\n",
    "    steps,DN,NPY,LE,DC,PS=[],[],[],[],[],[] #I love multiple assignment!\n",
    "#     import pprint\n",
    "#     pprint.pprint(results)\n",
    "    for step in sorted(results):\n",
    "        steps.append(step)\n",
    "        DN.append(results[step][0])\n",
    "        NPY.append(results[step][1])\n",
    "        LE.append(results[step][2])\n",
    "        DC.append(results[step][3])\n",
    "        PS.append(results[step][4])\n",
    "\n",
    "    pyplot.plot(steps,DN)\n",
    "    pyplot.plot(steps,NPY)\n",
    "    pyplot.plot(steps,LE)\n",
    "    pyplot.plot(steps,DC)\n",
    "    pyplot.plot(steps,PS)\n",
    "    pyplot.legend(['Empty Loop', 'Numpy.Arange', 'List Comprehension', 'Dict Comprehension', 'Python for Loop'], loc='upper left')\n",
    "    scale = 'linear'\n",
    "    pyplot.xscale(scale)\n",
    "    pyplot.yscale(scale)\n",
    "    pyplot.title('runtime test')\n",
    "    pyplot.xlabel('length of list')\n",
    "    pyplot.ylabel('runtime in seconds')\n",
    "\n",
    "    pyplot.show()\n",
    "\n",
    "def longruntimetest(length, it):\n",
    "    if length<10**4:\n",
    "        length=10**4\n",
    "\n",
    "    result = {}\n",
    "    result['header']=['DoingNothing','NPY','LE','DC','PS']\n",
    "    for step in tqdm(range(10**3, length+1,10**3)):\n",
    "#         print(step)\n",
    "        t=runtimetest(step,verbose=False, it=it)        \n",
    "        result[step]=[t['DoingNothing'],t['NPY'],t['LE'],t['DC'],t['PS']]\n",
    "        for i in range(len(result[step])):\n",
    "            result[step][i]=round(result[step][i].seconds\n",
    "                                  +result[step][i].microseconds/10**6,6)\n",
    "\n",
    "    return result\n"
   ]
  },
  {
   "cell_type": "code",
   "execution_count": 61,
   "metadata": {
    "slideshow": {
     "slide_type": "subslide"
    }
   },
   "outputs": [],
   "source": [
    "testsize=10**5"
   ]
  },
  {
   "cell_type": "code",
   "execution_count": 62,
   "metadata": {
    "scrolled": true,
    "slideshow": {
     "slide_type": "fragment"
    }
   },
   "outputs": [
    {
     "name": "stderr",
     "output_type": "stream",
     "text": [
      "100%|████████████████████████████████████████████████████████████████████████████████| 100/100 [01:31<00:00,  1.77s/it]\n"
     ]
    }
   ],
   "source": [
    "result = longruntimetest(testsize, 20)"
   ]
  },
  {
   "cell_type": "code",
   "execution_count": 63,
   "metadata": {},
   "outputs": [
    {
     "data": {
      "application/javascript": [
       "/* Put everything inside the global mpl namespace */\n",
       "window.mpl = {};\n",
       "\n",
       "\n",
       "mpl.get_websocket_type = function() {\n",
       "    if (typeof(WebSocket) !== 'undefined') {\n",
       "        return WebSocket;\n",
       "    } else if (typeof(MozWebSocket) !== 'undefined') {\n",
       "        return MozWebSocket;\n",
       "    } else {\n",
       "        alert('Your browser does not have WebSocket support.' +\n",
       "              'Please try Chrome, Safari or Firefox ≥ 6. ' +\n",
       "              'Firefox 4 and 5 are also supported but you ' +\n",
       "              'have to enable WebSockets in about:config.');\n",
       "    };\n",
       "}\n",
       "\n",
       "mpl.figure = function(figure_id, websocket, ondownload, parent_element) {\n",
       "    this.id = figure_id;\n",
       "\n",
       "    this.ws = websocket;\n",
       "\n",
       "    this.supports_binary = (this.ws.binaryType != undefined);\n",
       "\n",
       "    if (!this.supports_binary) {\n",
       "        var warnings = document.getElementById(\"mpl-warnings\");\n",
       "        if (warnings) {\n",
       "            warnings.style.display = 'block';\n",
       "            warnings.textContent = (\n",
       "                \"This browser does not support binary websocket messages. \" +\n",
       "                    \"Performance may be slow.\");\n",
       "        }\n",
       "    }\n",
       "\n",
       "    this.imageObj = new Image();\n",
       "\n",
       "    this.context = undefined;\n",
       "    this.message = undefined;\n",
       "    this.canvas = undefined;\n",
       "    this.rubberband_canvas = undefined;\n",
       "    this.rubberband_context = undefined;\n",
       "    this.format_dropdown = undefined;\n",
       "\n",
       "    this.image_mode = 'full';\n",
       "\n",
       "    this.root = $('<div/>');\n",
       "    this._root_extra_style(this.root)\n",
       "    this.root.attr('style', 'display: inline-block');\n",
       "\n",
       "    $(parent_element).append(this.root);\n",
       "\n",
       "    this._init_header(this);\n",
       "    this._init_canvas(this);\n",
       "    this._init_toolbar(this);\n",
       "\n",
       "    var fig = this;\n",
       "\n",
       "    this.waiting = false;\n",
       "\n",
       "    this.ws.onopen =  function () {\n",
       "            fig.send_message(\"supports_binary\", {value: fig.supports_binary});\n",
       "            fig.send_message(\"send_image_mode\", {});\n",
       "            if (mpl.ratio != 1) {\n",
       "                fig.send_message(\"set_dpi_ratio\", {'dpi_ratio': mpl.ratio});\n",
       "            }\n",
       "            fig.send_message(\"refresh\", {});\n",
       "        }\n",
       "\n",
       "    this.imageObj.onload = function() {\n",
       "            if (fig.image_mode == 'full') {\n",
       "                // Full images could contain transparency (where diff images\n",
       "                // almost always do), so we need to clear the canvas so that\n",
       "                // there is no ghosting.\n",
       "                fig.context.clearRect(0, 0, fig.canvas.width, fig.canvas.height);\n",
       "            }\n",
       "            fig.context.drawImage(fig.imageObj, 0, 0);\n",
       "        };\n",
       "\n",
       "    this.imageObj.onunload = function() {\n",
       "        fig.ws.close();\n",
       "    }\n",
       "\n",
       "    this.ws.onmessage = this._make_on_message_function(this);\n",
       "\n",
       "    this.ondownload = ondownload;\n",
       "}\n",
       "\n",
       "mpl.figure.prototype._init_header = function() {\n",
       "    var titlebar = $(\n",
       "        '<div class=\"ui-dialog-titlebar ui-widget-header ui-corner-all ' +\n",
       "        'ui-helper-clearfix\"/>');\n",
       "    var titletext = $(\n",
       "        '<div class=\"ui-dialog-title\" style=\"width: 100%; ' +\n",
       "        'text-align: center; padding: 3px;\"/>');\n",
       "    titlebar.append(titletext)\n",
       "    this.root.append(titlebar);\n",
       "    this.header = titletext[0];\n",
       "}\n",
       "\n",
       "\n",
       "\n",
       "mpl.figure.prototype._canvas_extra_style = function(canvas_div) {\n",
       "\n",
       "}\n",
       "\n",
       "\n",
       "mpl.figure.prototype._root_extra_style = function(canvas_div) {\n",
       "\n",
       "}\n",
       "\n",
       "mpl.figure.prototype._init_canvas = function() {\n",
       "    var fig = this;\n",
       "\n",
       "    var canvas_div = $('<div/>');\n",
       "\n",
       "    canvas_div.attr('style', 'position: relative; clear: both; outline: 0');\n",
       "\n",
       "    function canvas_keyboard_event(event) {\n",
       "        return fig.key_event(event, event['data']);\n",
       "    }\n",
       "\n",
       "    canvas_div.keydown('key_press', canvas_keyboard_event);\n",
       "    canvas_div.keyup('key_release', canvas_keyboard_event);\n",
       "    this.canvas_div = canvas_div\n",
       "    this._canvas_extra_style(canvas_div)\n",
       "    this.root.append(canvas_div);\n",
       "\n",
       "    var canvas = $('<canvas/>');\n",
       "    canvas.addClass('mpl-canvas');\n",
       "    canvas.attr('style', \"left: 0; top: 0; z-index: 0; outline: 0\")\n",
       "\n",
       "    this.canvas = canvas[0];\n",
       "    this.context = canvas[0].getContext(\"2d\");\n",
       "\n",
       "    var backingStore = this.context.backingStorePixelRatio ||\n",
       "\tthis.context.webkitBackingStorePixelRatio ||\n",
       "\tthis.context.mozBackingStorePixelRatio ||\n",
       "\tthis.context.msBackingStorePixelRatio ||\n",
       "\tthis.context.oBackingStorePixelRatio ||\n",
       "\tthis.context.backingStorePixelRatio || 1;\n",
       "\n",
       "    mpl.ratio = (window.devicePixelRatio || 1) / backingStore;\n",
       "\n",
       "    var rubberband = $('<canvas/>');\n",
       "    rubberband.attr('style', \"position: absolute; left: 0; top: 0; z-index: 1;\")\n",
       "\n",
       "    var pass_mouse_events = true;\n",
       "\n",
       "    canvas_div.resizable({\n",
       "        start: function(event, ui) {\n",
       "            pass_mouse_events = false;\n",
       "        },\n",
       "        resize: function(event, ui) {\n",
       "            fig.request_resize(ui.size.width, ui.size.height);\n",
       "        },\n",
       "        stop: function(event, ui) {\n",
       "            pass_mouse_events = true;\n",
       "            fig.request_resize(ui.size.width, ui.size.height);\n",
       "        },\n",
       "    });\n",
       "\n",
       "    function mouse_event_fn(event) {\n",
       "        if (pass_mouse_events)\n",
       "            return fig.mouse_event(event, event['data']);\n",
       "    }\n",
       "\n",
       "    rubberband.mousedown('button_press', mouse_event_fn);\n",
       "    rubberband.mouseup('button_release', mouse_event_fn);\n",
       "    // Throttle sequential mouse events to 1 every 20ms.\n",
       "    rubberband.mousemove('motion_notify', mouse_event_fn);\n",
       "\n",
       "    rubberband.mouseenter('figure_enter', mouse_event_fn);\n",
       "    rubberband.mouseleave('figure_leave', mouse_event_fn);\n",
       "\n",
       "    canvas_div.on(\"wheel\", function (event) {\n",
       "        event = event.originalEvent;\n",
       "        event['data'] = 'scroll'\n",
       "        if (event.deltaY < 0) {\n",
       "            event.step = 1;\n",
       "        } else {\n",
       "            event.step = -1;\n",
       "        }\n",
       "        mouse_event_fn(event);\n",
       "    });\n",
       "\n",
       "    canvas_div.append(canvas);\n",
       "    canvas_div.append(rubberband);\n",
       "\n",
       "    this.rubberband = rubberband;\n",
       "    this.rubberband_canvas = rubberband[0];\n",
       "    this.rubberband_context = rubberband[0].getContext(\"2d\");\n",
       "    this.rubberband_context.strokeStyle = \"#000000\";\n",
       "\n",
       "    this._resize_canvas = function(width, height) {\n",
       "        // Keep the size of the canvas, canvas container, and rubber band\n",
       "        // canvas in synch.\n",
       "        canvas_div.css('width', width)\n",
       "        canvas_div.css('height', height)\n",
       "\n",
       "        canvas.attr('width', width * mpl.ratio);\n",
       "        canvas.attr('height', height * mpl.ratio);\n",
       "        canvas.attr('style', 'width: ' + width + 'px; height: ' + height + 'px;');\n",
       "\n",
       "        rubberband.attr('width', width);\n",
       "        rubberband.attr('height', height);\n",
       "    }\n",
       "\n",
       "    // Set the figure to an initial 600x600px, this will subsequently be updated\n",
       "    // upon first draw.\n",
       "    this._resize_canvas(600, 600);\n",
       "\n",
       "    // Disable right mouse context menu.\n",
       "    $(this.rubberband_canvas).bind(\"contextmenu\",function(e){\n",
       "        return false;\n",
       "    });\n",
       "\n",
       "    function set_focus () {\n",
       "        canvas.focus();\n",
       "        canvas_div.focus();\n",
       "    }\n",
       "\n",
       "    window.setTimeout(set_focus, 100);\n",
       "}\n",
       "\n",
       "mpl.figure.prototype._init_toolbar = function() {\n",
       "    var fig = this;\n",
       "\n",
       "    var nav_element = $('<div/>')\n",
       "    nav_element.attr('style', 'width: 100%');\n",
       "    this.root.append(nav_element);\n",
       "\n",
       "    // Define a callback function for later on.\n",
       "    function toolbar_event(event) {\n",
       "        return fig.toolbar_button_onclick(event['data']);\n",
       "    }\n",
       "    function toolbar_mouse_event(event) {\n",
       "        return fig.toolbar_button_onmouseover(event['data']);\n",
       "    }\n",
       "\n",
       "    for(var toolbar_ind in mpl.toolbar_items) {\n",
       "        var name = mpl.toolbar_items[toolbar_ind][0];\n",
       "        var tooltip = mpl.toolbar_items[toolbar_ind][1];\n",
       "        var image = mpl.toolbar_items[toolbar_ind][2];\n",
       "        var method_name = mpl.toolbar_items[toolbar_ind][3];\n",
       "\n",
       "        if (!name) {\n",
       "            // put a spacer in here.\n",
       "            continue;\n",
       "        }\n",
       "        var button = $('<button/>');\n",
       "        button.addClass('ui-button ui-widget ui-state-default ui-corner-all ' +\n",
       "                        'ui-button-icon-only');\n",
       "        button.attr('role', 'button');\n",
       "        button.attr('aria-disabled', 'false');\n",
       "        button.click(method_name, toolbar_event);\n",
       "        button.mouseover(tooltip, toolbar_mouse_event);\n",
       "\n",
       "        var icon_img = $('<span/>');\n",
       "        icon_img.addClass('ui-button-icon-primary ui-icon');\n",
       "        icon_img.addClass(image);\n",
       "        icon_img.addClass('ui-corner-all');\n",
       "\n",
       "        var tooltip_span = $('<span/>');\n",
       "        tooltip_span.addClass('ui-button-text');\n",
       "        tooltip_span.html(tooltip);\n",
       "\n",
       "        button.append(icon_img);\n",
       "        button.append(tooltip_span);\n",
       "\n",
       "        nav_element.append(button);\n",
       "    }\n",
       "\n",
       "    var fmt_picker_span = $('<span/>');\n",
       "\n",
       "    var fmt_picker = $('<select/>');\n",
       "    fmt_picker.addClass('mpl-toolbar-option ui-widget ui-widget-content');\n",
       "    fmt_picker_span.append(fmt_picker);\n",
       "    nav_element.append(fmt_picker_span);\n",
       "    this.format_dropdown = fmt_picker[0];\n",
       "\n",
       "    for (var ind in mpl.extensions) {\n",
       "        var fmt = mpl.extensions[ind];\n",
       "        var option = $(\n",
       "            '<option/>', {selected: fmt === mpl.default_extension}).html(fmt);\n",
       "        fmt_picker.append(option)\n",
       "    }\n",
       "\n",
       "    // Add hover states to the ui-buttons\n",
       "    $( \".ui-button\" ).hover(\n",
       "        function() { $(this).addClass(\"ui-state-hover\");},\n",
       "        function() { $(this).removeClass(\"ui-state-hover\");}\n",
       "    );\n",
       "\n",
       "    var status_bar = $('<span class=\"mpl-message\"/>');\n",
       "    nav_element.append(status_bar);\n",
       "    this.message = status_bar[0];\n",
       "}\n",
       "\n",
       "mpl.figure.prototype.request_resize = function(x_pixels, y_pixels) {\n",
       "    // Request matplotlib to resize the figure. Matplotlib will then trigger a resize in the client,\n",
       "    // which will in turn request a refresh of the image.\n",
       "    this.send_message('resize', {'width': x_pixels, 'height': y_pixels});\n",
       "}\n",
       "\n",
       "mpl.figure.prototype.send_message = function(type, properties) {\n",
       "    properties['type'] = type;\n",
       "    properties['figure_id'] = this.id;\n",
       "    this.ws.send(JSON.stringify(properties));\n",
       "}\n",
       "\n",
       "mpl.figure.prototype.send_draw_message = function() {\n",
       "    if (!this.waiting) {\n",
       "        this.waiting = true;\n",
       "        this.ws.send(JSON.stringify({type: \"draw\", figure_id: this.id}));\n",
       "    }\n",
       "}\n",
       "\n",
       "\n",
       "mpl.figure.prototype.handle_save = function(fig, msg) {\n",
       "    var format_dropdown = fig.format_dropdown;\n",
       "    var format = format_dropdown.options[format_dropdown.selectedIndex].value;\n",
       "    fig.ondownload(fig, format);\n",
       "}\n",
       "\n",
       "\n",
       "mpl.figure.prototype.handle_resize = function(fig, msg) {\n",
       "    var size = msg['size'];\n",
       "    if (size[0] != fig.canvas.width || size[1] != fig.canvas.height) {\n",
       "        fig._resize_canvas(size[0], size[1]);\n",
       "        fig.send_message(\"refresh\", {});\n",
       "    };\n",
       "}\n",
       "\n",
       "mpl.figure.prototype.handle_rubberband = function(fig, msg) {\n",
       "    var x0 = msg['x0'] / mpl.ratio;\n",
       "    var y0 = (fig.canvas.height - msg['y0']) / mpl.ratio;\n",
       "    var x1 = msg['x1'] / mpl.ratio;\n",
       "    var y1 = (fig.canvas.height - msg['y1']) / mpl.ratio;\n",
       "    x0 = Math.floor(x0) + 0.5;\n",
       "    y0 = Math.floor(y0) + 0.5;\n",
       "    x1 = Math.floor(x1) + 0.5;\n",
       "    y1 = Math.floor(y1) + 0.5;\n",
       "    var min_x = Math.min(x0, x1);\n",
       "    var min_y = Math.min(y0, y1);\n",
       "    var width = Math.abs(x1 - x0);\n",
       "    var height = Math.abs(y1 - y0);\n",
       "\n",
       "    fig.rubberband_context.clearRect(\n",
       "        0, 0, fig.canvas.width, fig.canvas.height);\n",
       "\n",
       "    fig.rubberband_context.strokeRect(min_x, min_y, width, height);\n",
       "}\n",
       "\n",
       "mpl.figure.prototype.handle_figure_label = function(fig, msg) {\n",
       "    // Updates the figure title.\n",
       "    fig.header.textContent = msg['label'];\n",
       "}\n",
       "\n",
       "mpl.figure.prototype.handle_cursor = function(fig, msg) {\n",
       "    var cursor = msg['cursor'];\n",
       "    switch(cursor)\n",
       "    {\n",
       "    case 0:\n",
       "        cursor = 'pointer';\n",
       "        break;\n",
       "    case 1:\n",
       "        cursor = 'default';\n",
       "        break;\n",
       "    case 2:\n",
       "        cursor = 'crosshair';\n",
       "        break;\n",
       "    case 3:\n",
       "        cursor = 'move';\n",
       "        break;\n",
       "    }\n",
       "    fig.rubberband_canvas.style.cursor = cursor;\n",
       "}\n",
       "\n",
       "mpl.figure.prototype.handle_message = function(fig, msg) {\n",
       "    fig.message.textContent = msg['message'];\n",
       "}\n",
       "\n",
       "mpl.figure.prototype.handle_draw = function(fig, msg) {\n",
       "    // Request the server to send over a new figure.\n",
       "    fig.send_draw_message();\n",
       "}\n",
       "\n",
       "mpl.figure.prototype.handle_image_mode = function(fig, msg) {\n",
       "    fig.image_mode = msg['mode'];\n",
       "}\n",
       "\n",
       "mpl.figure.prototype.updated_canvas_event = function() {\n",
       "    // Called whenever the canvas gets updated.\n",
       "    this.send_message(\"ack\", {});\n",
       "}\n",
       "\n",
       "// A function to construct a web socket function for onmessage handling.\n",
       "// Called in the figure constructor.\n",
       "mpl.figure.prototype._make_on_message_function = function(fig) {\n",
       "    return function socket_on_message(evt) {\n",
       "        if (evt.data instanceof Blob) {\n",
       "            /* FIXME: We get \"Resource interpreted as Image but\n",
       "             * transferred with MIME type text/plain:\" errors on\n",
       "             * Chrome.  But how to set the MIME type?  It doesn't seem\n",
       "             * to be part of the websocket stream */\n",
       "            evt.data.type = \"image/png\";\n",
       "\n",
       "            /* Free the memory for the previous frames */\n",
       "            if (fig.imageObj.src) {\n",
       "                (window.URL || window.webkitURL).revokeObjectURL(\n",
       "                    fig.imageObj.src);\n",
       "            }\n",
       "\n",
       "            fig.imageObj.src = (window.URL || window.webkitURL).createObjectURL(\n",
       "                evt.data);\n",
       "            fig.updated_canvas_event();\n",
       "            fig.waiting = false;\n",
       "            return;\n",
       "        }\n",
       "        else if (typeof evt.data === 'string' && evt.data.slice(0, 21) == \"data:image/png;base64\") {\n",
       "            fig.imageObj.src = evt.data;\n",
       "            fig.updated_canvas_event();\n",
       "            fig.waiting = false;\n",
       "            return;\n",
       "        }\n",
       "\n",
       "        var msg = JSON.parse(evt.data);\n",
       "        var msg_type = msg['type'];\n",
       "\n",
       "        // Call the  \"handle_{type}\" callback, which takes\n",
       "        // the figure and JSON message as its only arguments.\n",
       "        try {\n",
       "            var callback = fig[\"handle_\" + msg_type];\n",
       "        } catch (e) {\n",
       "            console.log(\"No handler for the '\" + msg_type + \"' message type: \", msg);\n",
       "            return;\n",
       "        }\n",
       "\n",
       "        if (callback) {\n",
       "            try {\n",
       "                // console.log(\"Handling '\" + msg_type + \"' message: \", msg);\n",
       "                callback(fig, msg);\n",
       "            } catch (e) {\n",
       "                console.log(\"Exception inside the 'handler_\" + msg_type + \"' callback:\", e, e.stack, msg);\n",
       "            }\n",
       "        }\n",
       "    };\n",
       "}\n",
       "\n",
       "// from http://stackoverflow.com/questions/1114465/getting-mouse-location-in-canvas\n",
       "mpl.findpos = function(e) {\n",
       "    //this section is from http://www.quirksmode.org/js/events_properties.html\n",
       "    var targ;\n",
       "    if (!e)\n",
       "        e = window.event;\n",
       "    if (e.target)\n",
       "        targ = e.target;\n",
       "    else if (e.srcElement)\n",
       "        targ = e.srcElement;\n",
       "    if (targ.nodeType == 3) // defeat Safari bug\n",
       "        targ = targ.parentNode;\n",
       "\n",
       "    // jQuery normalizes the pageX and pageY\n",
       "    // pageX,Y are the mouse positions relative to the document\n",
       "    // offset() returns the position of the element relative to the document\n",
       "    var x = e.pageX - $(targ).offset().left;\n",
       "    var y = e.pageY - $(targ).offset().top;\n",
       "\n",
       "    return {\"x\": x, \"y\": y};\n",
       "};\n",
       "\n",
       "/*\n",
       " * return a copy of an object with only non-object keys\n",
       " * we need this to avoid circular references\n",
       " * http://stackoverflow.com/a/24161582/3208463\n",
       " */\n",
       "function simpleKeys (original) {\n",
       "  return Object.keys(original).reduce(function (obj, key) {\n",
       "    if (typeof original[key] !== 'object')\n",
       "        obj[key] = original[key]\n",
       "    return obj;\n",
       "  }, {});\n",
       "}\n",
       "\n",
       "mpl.figure.prototype.mouse_event = function(event, name) {\n",
       "    var canvas_pos = mpl.findpos(event)\n",
       "\n",
       "    if (name === 'button_press')\n",
       "    {\n",
       "        this.canvas.focus();\n",
       "        this.canvas_div.focus();\n",
       "    }\n",
       "\n",
       "    var x = canvas_pos.x * mpl.ratio;\n",
       "    var y = canvas_pos.y * mpl.ratio;\n",
       "\n",
       "    this.send_message(name, {x: x, y: y, button: event.button,\n",
       "                             step: event.step,\n",
       "                             guiEvent: simpleKeys(event)});\n",
       "\n",
       "    /* This prevents the web browser from automatically changing to\n",
       "     * the text insertion cursor when the button is pressed.  We want\n",
       "     * to control all of the cursor setting manually through the\n",
       "     * 'cursor' event from matplotlib */\n",
       "    event.preventDefault();\n",
       "    return false;\n",
       "}\n",
       "\n",
       "mpl.figure.prototype._key_event_extra = function(event, name) {\n",
       "    // Handle any extra behaviour associated with a key event\n",
       "}\n",
       "\n",
       "mpl.figure.prototype.key_event = function(event, name) {\n",
       "\n",
       "    // Prevent repeat events\n",
       "    if (name == 'key_press')\n",
       "    {\n",
       "        if (event.which === this._key)\n",
       "            return;\n",
       "        else\n",
       "            this._key = event.which;\n",
       "    }\n",
       "    if (name == 'key_release')\n",
       "        this._key = null;\n",
       "\n",
       "    var value = '';\n",
       "    if (event.ctrlKey && event.which != 17)\n",
       "        value += \"ctrl+\";\n",
       "    if (event.altKey && event.which != 18)\n",
       "        value += \"alt+\";\n",
       "    if (event.shiftKey && event.which != 16)\n",
       "        value += \"shift+\";\n",
       "\n",
       "    value += 'k';\n",
       "    value += event.which.toString();\n",
       "\n",
       "    this._key_event_extra(event, name);\n",
       "\n",
       "    this.send_message(name, {key: value,\n",
       "                             guiEvent: simpleKeys(event)});\n",
       "    return false;\n",
       "}\n",
       "\n",
       "mpl.figure.prototype.toolbar_button_onclick = function(name) {\n",
       "    if (name == 'download') {\n",
       "        this.handle_save(this, null);\n",
       "    } else {\n",
       "        this.send_message(\"toolbar_button\", {name: name});\n",
       "    }\n",
       "};\n",
       "\n",
       "mpl.figure.prototype.toolbar_button_onmouseover = function(tooltip) {\n",
       "    this.message.textContent = tooltip;\n",
       "};\n",
       "mpl.toolbar_items = [[\"Home\", \"Reset original view\", \"fa fa-home icon-home\", \"home\"], [\"Back\", \"Back to previous view\", \"fa fa-arrow-left icon-arrow-left\", \"back\"], [\"Forward\", \"Forward to next view\", \"fa fa-arrow-right icon-arrow-right\", \"forward\"], [\"\", \"\", \"\", \"\"], [\"Pan\", \"Pan axes with left mouse, zoom with right\", \"fa fa-arrows icon-move\", \"pan\"], [\"Zoom\", \"Zoom to rectangle\", \"fa fa-square-o icon-check-empty\", \"zoom\"], [\"\", \"\", \"\", \"\"], [\"Download\", \"Download plot\", \"fa fa-floppy-o icon-save\", \"download\"]];\n",
       "\n",
       "mpl.extensions = [\"eps\", \"pdf\", \"png\", \"ps\", \"raw\", \"svg\"];\n",
       "\n",
       "mpl.default_extension = \"png\";var comm_websocket_adapter = function(comm) {\n",
       "    // Create a \"websocket\"-like object which calls the given IPython comm\n",
       "    // object with the appropriate methods. Currently this is a non binary\n",
       "    // socket, so there is still some room for performance tuning.\n",
       "    var ws = {};\n",
       "\n",
       "    ws.close = function() {\n",
       "        comm.close()\n",
       "    };\n",
       "    ws.send = function(m) {\n",
       "        //console.log('sending', m);\n",
       "        comm.send(m);\n",
       "    };\n",
       "    // Register the callback with on_msg.\n",
       "    comm.on_msg(function(msg) {\n",
       "        //console.log('receiving', msg['content']['data'], msg);\n",
       "        // Pass the mpl event to the overridden (by mpl) onmessage function.\n",
       "        ws.onmessage(msg['content']['data'])\n",
       "    });\n",
       "    return ws;\n",
       "}\n",
       "\n",
       "mpl.mpl_figure_comm = function(comm, msg) {\n",
       "    // This is the function which gets called when the mpl process\n",
       "    // starts-up an IPython Comm through the \"matplotlib\" channel.\n",
       "\n",
       "    var id = msg.content.data.id;\n",
       "    // Get hold of the div created by the display call when the Comm\n",
       "    // socket was opened in Python.\n",
       "    var element = $(\"#\" + id);\n",
       "    var ws_proxy = comm_websocket_adapter(comm)\n",
       "\n",
       "    function ondownload(figure, format) {\n",
       "        window.open(figure.imageObj.src);\n",
       "    }\n",
       "\n",
       "    var fig = new mpl.figure(id, ws_proxy,\n",
       "                           ondownload,\n",
       "                           element.get(0));\n",
       "\n",
       "    // Call onopen now - mpl needs it, as it is assuming we've passed it a real\n",
       "    // web socket which is closed, not our websocket->open comm proxy.\n",
       "    ws_proxy.onopen();\n",
       "\n",
       "    fig.parent_element = element.get(0);\n",
       "    fig.cell_info = mpl.find_output_cell(\"<div id='\" + id + \"'></div>\");\n",
       "    if (!fig.cell_info) {\n",
       "        console.error(\"Failed to find cell for figure\", id, fig);\n",
       "        return;\n",
       "    }\n",
       "\n",
       "    var output_index = fig.cell_info[2]\n",
       "    var cell = fig.cell_info[0];\n",
       "\n",
       "};\n",
       "\n",
       "mpl.figure.prototype.handle_close = function(fig, msg) {\n",
       "    var width = fig.canvas.width/mpl.ratio\n",
       "    fig.root.unbind('remove')\n",
       "\n",
       "    // Update the output cell to use the data from the current canvas.\n",
       "    fig.push_to_output();\n",
       "    var dataURL = fig.canvas.toDataURL();\n",
       "    // Re-enable the keyboard manager in IPython - without this line, in FF,\n",
       "    // the notebook keyboard shortcuts fail.\n",
       "    IPython.keyboard_manager.enable()\n",
       "    $(fig.parent_element).html('<img src=\"' + dataURL + '\" width=\"' + width + '\">');\n",
       "    fig.close_ws(fig, msg);\n",
       "}\n",
       "\n",
       "mpl.figure.prototype.close_ws = function(fig, msg){\n",
       "    fig.send_message('closing', msg);\n",
       "    // fig.ws.close()\n",
       "}\n",
       "\n",
       "mpl.figure.prototype.push_to_output = function(remove_interactive) {\n",
       "    // Turn the data on the canvas into data in the output cell.\n",
       "    var width = this.canvas.width/mpl.ratio\n",
       "    var dataURL = this.canvas.toDataURL();\n",
       "    this.cell_info[1]['text/html'] = '<img src=\"' + dataURL + '\" width=\"' + width + '\">';\n",
       "}\n",
       "\n",
       "mpl.figure.prototype.updated_canvas_event = function() {\n",
       "    // Tell IPython that the notebook contents must change.\n",
       "    IPython.notebook.set_dirty(true);\n",
       "    this.send_message(\"ack\", {});\n",
       "    var fig = this;\n",
       "    // Wait a second, then push the new image to the DOM so\n",
       "    // that it is saved nicely (might be nice to debounce this).\n",
       "    setTimeout(function () { fig.push_to_output() }, 1000);\n",
       "}\n",
       "\n",
       "mpl.figure.prototype._init_toolbar = function() {\n",
       "    var fig = this;\n",
       "\n",
       "    var nav_element = $('<div/>')\n",
       "    nav_element.attr('style', 'width: 100%');\n",
       "    this.root.append(nav_element);\n",
       "\n",
       "    // Define a callback function for later on.\n",
       "    function toolbar_event(event) {\n",
       "        return fig.toolbar_button_onclick(event['data']);\n",
       "    }\n",
       "    function toolbar_mouse_event(event) {\n",
       "        return fig.toolbar_button_onmouseover(event['data']);\n",
       "    }\n",
       "\n",
       "    for(var toolbar_ind in mpl.toolbar_items){\n",
       "        var name = mpl.toolbar_items[toolbar_ind][0];\n",
       "        var tooltip = mpl.toolbar_items[toolbar_ind][1];\n",
       "        var image = mpl.toolbar_items[toolbar_ind][2];\n",
       "        var method_name = mpl.toolbar_items[toolbar_ind][3];\n",
       "\n",
       "        if (!name) { continue; };\n",
       "\n",
       "        var button = $('<button class=\"btn btn-default\" href=\"#\" title=\"' + name + '\"><i class=\"fa ' + image + ' fa-lg\"></i></button>');\n",
       "        button.click(method_name, toolbar_event);\n",
       "        button.mouseover(tooltip, toolbar_mouse_event);\n",
       "        nav_element.append(button);\n",
       "    }\n",
       "\n",
       "    // Add the status bar.\n",
       "    var status_bar = $('<span class=\"mpl-message\" style=\"text-align:right; float: right;\"/>');\n",
       "    nav_element.append(status_bar);\n",
       "    this.message = status_bar[0];\n",
       "\n",
       "    // Add the close button to the window.\n",
       "    var buttongrp = $('<div class=\"btn-group inline pull-right\"></div>');\n",
       "    var button = $('<button class=\"btn btn-mini btn-primary\" href=\"#\" title=\"Stop Interaction\"><i class=\"fa fa-power-off icon-remove icon-large\"></i></button>');\n",
       "    button.click(function (evt) { fig.handle_close(fig, {}); } );\n",
       "    button.mouseover('Stop Interaction', toolbar_mouse_event);\n",
       "    buttongrp.append(button);\n",
       "    var titlebar = this.root.find($('.ui-dialog-titlebar'));\n",
       "    titlebar.prepend(buttongrp);\n",
       "}\n",
       "\n",
       "mpl.figure.prototype._root_extra_style = function(el){\n",
       "    var fig = this\n",
       "    el.on(\"remove\", function(){\n",
       "\tfig.close_ws(fig, {});\n",
       "    });\n",
       "}\n",
       "\n",
       "mpl.figure.prototype._canvas_extra_style = function(el){\n",
       "    // this is important to make the div 'focusable\n",
       "    el.attr('tabindex', 0)\n",
       "    // reach out to IPython and tell the keyboard manager to turn it's self\n",
       "    // off when our div gets focus\n",
       "\n",
       "    // location in version 3\n",
       "    if (IPython.notebook.keyboard_manager) {\n",
       "        IPython.notebook.keyboard_manager.register_events(el);\n",
       "    }\n",
       "    else {\n",
       "        // location in version 2\n",
       "        IPython.keyboard_manager.register_events(el);\n",
       "    }\n",
       "\n",
       "}\n",
       "\n",
       "mpl.figure.prototype._key_event_extra = function(event, name) {\n",
       "    var manager = IPython.notebook.keyboard_manager;\n",
       "    if (!manager)\n",
       "        manager = IPython.keyboard_manager;\n",
       "\n",
       "    // Check for shift+enter\n",
       "    if (event.shiftKey && event.which == 13) {\n",
       "        this.canvas_div.blur();\n",
       "        event.shiftKey = false;\n",
       "        // Send a \"J\" for go to next cell\n",
       "        event.which = 74;\n",
       "        event.keyCode = 74;\n",
       "        manager.command_mode();\n",
       "        manager.handle_keydown(event);\n",
       "    }\n",
       "}\n",
       "\n",
       "mpl.figure.prototype.handle_save = function(fig, msg) {\n",
       "    fig.ondownload(fig, null);\n",
       "}\n",
       "\n",
       "\n",
       "mpl.find_output_cell = function(html_output) {\n",
       "    // Return the cell and output element which can be found *uniquely* in the notebook.\n",
       "    // Note - this is a bit hacky, but it is done because the \"notebook_saving.Notebook\"\n",
       "    // IPython event is triggered only after the cells have been serialised, which for\n",
       "    // our purposes (turning an active figure into a static one), is too late.\n",
       "    var cells = IPython.notebook.get_cells();\n",
       "    var ncells = cells.length;\n",
       "    for (var i=0; i<ncells; i++) {\n",
       "        var cell = cells[i];\n",
       "        if (cell.cell_type === 'code'){\n",
       "            for (var j=0; j<cell.output_area.outputs.length; j++) {\n",
       "                var data = cell.output_area.outputs[j];\n",
       "                if (data.data) {\n",
       "                    // IPython >= 3 moved mimebundle to data attribute of output\n",
       "                    data = data.data;\n",
       "                }\n",
       "                if (data['text/html'] == html_output) {\n",
       "                    return [cell, data, j];\n",
       "                }\n",
       "            }\n",
       "        }\n",
       "    }\n",
       "}\n",
       "\n",
       "// Register the function which deals with the matplotlib target/channel.\n",
       "// The kernel may be null if the page has been refreshed.\n",
       "if (IPython.notebook.kernel != null) {\n",
       "    IPython.notebook.kernel.comm_manager.register_target('matplotlib', mpl.mpl_figure_comm);\n",
       "}\n"
      ],
      "text/plain": [
       "<IPython.core.display.Javascript object>"
      ]
     },
     "metadata": {},
     "output_type": "display_data"
    },
    {
     "data": {
      "text/html": [
       "<img src=\"data:image/png;base64,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\" width=\"999.4444709206812\">"
      ],
      "text/plain": [
       "<IPython.core.display.HTML object>"
      ]
     },
     "metadata": {},
     "output_type": "display_data"
    }
   ],
   "source": [
    "view(result)"
   ]
  },
  {
   "cell_type": "code",
   "execution_count": null,
   "metadata": {},
   "outputs": [],
   "source": [
    "- kodowanie - Szumacher\n",
    "- [] vs list oraz  {} vs dict () - Mielniczek\n",
    "- dict P2 vs P3 - Krzyszkowski"
   ]
  }
 ],
 "metadata": {
  "celltoolbar": "Slideshow",
  "kernelspec": {
   "display_name": "Python 3",
   "language": "python",
   "name": "python3"
  },
  "language_info": {
   "codemirror_mode": {
    "name": "ipython",
    "version": 3
   },
   "file_extension": ".py",
   "mimetype": "text/x-python",
   "name": "python",
   "nbconvert_exporter": "python",
   "pygments_lexer": "ipython3",
   "version": "3.6.4"
  }
 },
 "nbformat": 4,
 "nbformat_minor": 2
}
